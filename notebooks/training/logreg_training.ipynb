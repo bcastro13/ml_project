{
 "cells": [
  {
   "cell_type": "markdown",
   "id": "f8b44d08",
   "metadata": {},
   "source": [
    "# Logistic Regression Training"
   ]
  },
  {
   "cell_type": "markdown",
   "id": "9fb44862",
   "metadata": {},
   "source": [
    "## Python Imports"
   ]
  },
  {
   "cell_type": "code",
   "execution_count": 42,
   "id": "d5864644",
   "metadata": {},
   "outputs": [],
   "source": [
    "import pickle\n",
    "\n",
    "import numpy as np\n",
    "from notebooks.utilities import data, ml_stats, sampling\n",
    "from notebooks.utilities import train_test_split as tts\n",
    "from notebooks.utilities import vectorize\n",
    "from sklearn.feature_extraction.text import (\n",
    "    CountVectorizer,\n",
    "    TfidfTransformer,\n",
    "    TfidfVectorizer,\n",
    ")\n",
    "from sklearn.linear_model import LogisticRegression\n",
    "from sklearn.metrics import accuracy_score, mean_squared_error"
   ]
  },
  {
   "cell_type": "markdown",
   "id": "6e5c6c8c",
   "metadata": {},
   "source": [
    "## Load data"
   ]
  },
  {
   "cell_type": "code",
   "execution_count": 43,
   "id": "7bf2110f",
   "metadata": {},
   "outputs": [],
   "source": [
    "df = data.neutral()"
   ]
  },
  {
   "cell_type": "code",
   "execution_count": 44,
   "id": "a569d21c",
   "metadata": {},
   "outputs": [],
   "source": [
    "df_sampled = sampling.undersample(df)"
   ]
  },
  {
   "cell_type": "markdown",
   "id": "9ef90938",
   "metadata": {},
   "source": [
    "## Training Function"
   ]
  },
  {
   "cell_type": "code",
   "execution_count": 45,
   "id": "2c85aba2",
   "metadata": {},
   "outputs": [],
   "source": [
    "def logreg(X_train, y_train, X_test, name, C=10000000, solver=\"saga\", max_iter=100):\n",
    "    clf = LogisticRegression(\n",
    "        C=C, random_state=13, solver=solver, max_iter=max_iter, n_jobs=-1\n",
    "    )\n",
    "    clf.fit(X_train, y_train.argmax(axis=1))\n",
    "    pickle.dump(\n",
    "        clf, open(f\"../../models/neutral_models/{name}.pkl\", \"wb\",),\n",
    "    )\n",
    "    return clf.predict(X_test), clf"
   ]
  },
  {
   "cell_type": "markdown",
   "id": "7dbecec9",
   "metadata": {},
   "source": [
    "## TF-IDF Vectorizer"
   ]
  },
  {
   "cell_type": "markdown",
   "id": "2177593f",
   "metadata": {},
   "source": [
    "### Vectorization"
   ]
  },
  {
   "cell_type": "code",
   "execution_count": 46,
   "id": "0faa022a",
   "metadata": {
    "tags": []
   },
   "outputs": [
    {
     "name": "stdout",
     "output_type": "stream",
     "text": [
      "Time to vectorize:  17.85\n",
      "Length of vocabulary: 3005\n"
     ]
    }
   ],
   "source": [
    "tfidf_vec, vocab = vectorize.tfidf(\n",
    "    df_sampled[\"text\"], \"logreg\", max_df=0.90, min_df=100, vocab=True\n",
    ")"
   ]
  },
  {
   "cell_type": "markdown",
   "id": "7f0b3378",
   "metadata": {},
   "source": [
    "### Train-Test Split"
   ]
  },
  {
   "cell_type": "code",
   "execution_count": 47,
   "id": "c5fa1e36",
   "metadata": {},
   "outputs": [],
   "source": [
    "y = tts.encode_outputs(df_sampled[\"class\"])"
   ]
  },
  {
   "cell_type": "code",
   "execution_count": 48,
   "id": "bb3117f2",
   "metadata": {},
   "outputs": [],
   "source": [
    "X_train, X_test, y_train, y_test = tts.split(tfidf_vec, y)"
   ]
  },
  {
   "cell_type": "markdown",
   "id": "c3bb52e4",
   "metadata": {},
   "source": [
    "### Training"
   ]
  },
  {
   "cell_type": "code",
   "execution_count": 49,
   "id": "a34a4efc",
   "metadata": {},
   "outputs": [
    {
     "name": "stderr",
     "output_type": "stream",
     "text": [
      "/Users/brandon/anaconda3/lib/python3.7/site-packages/sklearn/linear_model/_sag.py:329: ConvergenceWarning: The max_iter was reached which means the coef_ did not converge\n",
      "  \"the coef_ did not converge\", ConvergenceWarning)\n"
     ]
    }
   ],
   "source": [
    "y_pred, model = logreg(X_train, y_train, X_test, \"logreg_tfidf\")"
   ]
  },
  {
   "cell_type": "markdown",
   "id": "f4adfaad",
   "metadata": {
    "tags": []
   },
   "source": [
    "### Metrics"
   ]
  },
  {
   "cell_type": "code",
   "execution_count": 50,
   "id": "c6a07190",
   "metadata": {},
   "outputs": [
    {
     "data": {
      "text/plain": [
       "0.933233537084009"
      ]
     },
     "execution_count": 50,
     "metadata": {},
     "output_type": "execute_result"
    }
   ],
   "source": [
    "model.score(X_train, y_train.argmax(axis=1))"
   ]
  },
  {
   "cell_type": "code",
   "execution_count": 51,
   "id": "0e978d57",
   "metadata": {},
   "outputs": [
    {
     "name": "stdout",
     "output_type": "stream",
     "text": [
      "0.9135111160392526\n",
      "0.5875145534179742\n"
     ]
    }
   ],
   "source": [
    "ml_stats.validation(y_test, y_pred)"
   ]
  },
  {
   "cell_type": "code",
   "execution_count": 52,
   "id": "31ba18f8",
   "metadata": {},
   "outputs": [
    {
     "name": "stdout",
     "output_type": "stream",
     "text": [
      "Class 0 Accuracy: 0.9394710634059976\n",
      "Class 1 Accuracy: 0.8874444444444445\n"
     ]
    }
   ],
   "source": [
    "ml_stats.class_accuracies(y_test, y_pred)"
   ]
  },
  {
   "cell_type": "code",
   "execution_count": 53,
   "id": "fbff5146",
   "metadata": {},
   "outputs": [
    {
     "data": {
      "image/png": "[encoded data removed]",
      "text/plain": [
       "<Figure size 720x504 with 2 Axes>"
      ]
     },
     "metadata": {
      "needs_background": "light"
     },
     "output_type": "display_data"
    }
   ],
   "source": [
    "ml_stats.confusion_matrix_plot(y_test, y_pred, 2)"
   ]
  },
  {
   "cell_type": "code",
   "execution_count": 54,
   "id": "bb9be7d6",
   "metadata": {},
   "outputs": [
    {
     "name": "stdout",
     "output_type": "stream",
     "text": [
      "\n",
      "Accuracy: 0.91\n",
      "\n",
      "Micro Precision: 0.91\n",
      "Micro Recall: 0.91\n",
      "Micro F1-score: 0.91\n",
      "\n",
      "Macro Precision: 0.91\n",
      "Macro Recall: 0.91\n",
      "Macro F1-score: 0.91\n",
      "\n",
      "Weighted Precision: 0.91\n",
      "Weighted Recall: 0.91\n",
      "Weighted F1-score: 0.91\n",
      "\n",
      "Classification Report\n",
      "\n",
      "              precision    recall  f1-score   support\n",
      "\n",
      "     Class 0       0.89      0.94      0.92      9037\n",
      "     Class 1       0.94      0.89      0.91      9000\n",
      "\n",
      "    accuracy                           0.91     18037\n",
      "   macro avg       0.91      0.91      0.91     18037\n",
      "weighted avg       0.91      0.91      0.91     18037\n",
      "\n"
     ]
    }
   ],
   "source": [
    "ml_stats.stats(y_test, y_pred, 2)"
   ]
  },
  {
   "cell_type": "markdown",
   "id": "79dd7414",
   "metadata": {},
   "source": [
    "## Low TF-IDF Vectorizer"
   ]
  },
  {
   "cell_type": "markdown",
   "id": "5a5f1401",
   "metadata": {},
   "source": [
    "### Vectorization"
   ]
  },
  {
   "cell_type": "code",
   "execution_count": 55,
   "id": "a78e32ca",
   "metadata": {
    "tags": []
   },
   "outputs": [
    {
     "name": "stdout",
     "output_type": "stream",
     "text": [
      "Time to vectorize:  18.64\n",
      "Length of vocabulary: 3005\n"
     ]
    }
   ],
   "source": [
    "tfidf_vec, vocab = vectorize.tfidf(\n",
    "    df_sampled[\"text\"], \"l1_logreg\", max_df=0.90, min_df=100, vocab=True\n",
    ")"
   ]
  },
  {
   "cell_type": "markdown",
   "id": "f0a888c6",
   "metadata": {},
   "source": [
    "### Train-Test Split"
   ]
  },
  {
   "cell_type": "code",
   "execution_count": 56,
   "id": "9c4579e8",
   "metadata": {},
   "outputs": [],
   "source": [
    "y = tts.encode_outputs(df_sampled[\"class\"])"
   ]
  },
  {
   "cell_type": "code",
   "execution_count": 57,
   "id": "9f6588aa",
   "metadata": {},
   "outputs": [],
   "source": [
    "X_train, X_test, y_train, y_test = tts.split(tfidf_vec, y)"
   ]
  },
  {
   "cell_type": "markdown",
   "id": "c6cd9e84",
   "metadata": {},
   "source": [
    "### Training"
   ]
  },
  {
   "cell_type": "code",
   "execution_count": 58,
   "id": "3641c0d5",
   "metadata": {},
   "outputs": [],
   "source": [
    "y_pred, model = logreg(X_train, y_train, X_test, \"logreg_tfidf\", C=1)"
   ]
  },
  {
   "cell_type": "markdown",
   "id": "2d0b7afa",
   "metadata": {},
   "source": [
    "### Metrics"
   ]
  },
  {
   "cell_type": "code",
   "execution_count": 59,
   "id": "e538101a",
   "metadata": {},
   "outputs": [
    {
     "data": {
      "text/plain": [
       "0.9201352793601951"
      ]
     },
     "execution_count": 59,
     "metadata": {},
     "output_type": "execute_result"
    }
   ],
   "source": [
    "model.score(X_train, y_train.argmax(axis=1))"
   ]
  },
  {
   "cell_type": "code",
   "execution_count": 60,
   "id": "a7b3b2a6",
   "metadata": {},
   "outputs": [
    {
     "name": "stdout",
     "output_type": "stream",
     "text": [
      "0.9101291789100183\n",
      "0.5908964905472085\n"
     ]
    }
   ],
   "source": [
    "ml_stats.validation(y_test, y_pred)"
   ]
  },
  {
   "cell_type": "code",
   "execution_count": 61,
   "id": "0f7d138b",
   "metadata": {},
   "outputs": [
    {
     "name": "stdout",
     "output_type": "stream",
     "text": [
      "Class 0 Accuracy: 0.9461104348788315\n",
      "Class 1 Accuracy: 0.874\n"
     ]
    }
   ],
   "source": [
    "ml_stats.class_accuracies(y_test, y_pred)"
   ]
  },
  {
   "cell_type": "code",
   "execution_count": 62,
   "id": "92de0875",
   "metadata": {},
   "outputs": [
    {
     "data": {
      "image/png": "[encoded data removed]",
      "text/plain": [
       "<Figure size 720x504 with 2 Axes>"
      ]
     },
     "metadata": {
      "needs_background": "light"
     },
     "output_type": "display_data"
    }
   ],
   "source": [
    "ml_stats.confusion_matrix_plot(y_test, y_pred, 2)"
   ]
  },
  {
   "cell_type": "code",
   "execution_count": 63,
   "id": "0f985b39",
   "metadata": {},
   "outputs": [
    {
     "name": "stdout",
     "output_type": "stream",
     "text": [
      "\n",
      "Accuracy: 0.91\n",
      "\n",
      "Micro Precision: 0.91\n",
      "Micro Recall: 0.91\n",
      "Micro F1-score: 0.91\n",
      "\n",
      "Macro Precision: 0.91\n",
      "Macro Recall: 0.91\n",
      "Macro F1-score: 0.91\n",
      "\n",
      "Weighted Precision: 0.91\n",
      "Weighted Recall: 0.91\n",
      "Weighted F1-score: 0.91\n",
      "\n",
      "Classification Report\n",
      "\n",
      "              precision    recall  f1-score   support\n",
      "\n",
      "     Class 0       0.88      0.95      0.91      9037\n",
      "     Class 1       0.94      0.87      0.91      9000\n",
      "\n",
      "    accuracy                           0.91     18037\n",
      "   macro avg       0.91      0.91      0.91     18037\n",
      "weighted avg       0.91      0.91      0.91     18037\n",
      "\n"
     ]
    }
   ],
   "source": [
    "ml_stats.stats(y_test, y_pred, 2)"
   ]
  },
  {
   "cell_type": "markdown",
   "id": "5964d6e2",
   "metadata": {},
   "source": [
    "## Count Vectorizer"
   ]
  },
  {
   "cell_type": "markdown",
   "id": "4e9a1b0a",
   "metadata": {},
   "source": [
    "### Vectorization"
   ]
  },
  {
   "cell_type": "code",
   "execution_count": 64,
   "id": "a27525c0",
   "metadata": {},
   "outputs": [
    {
     "name": "stdout",
     "output_type": "stream",
     "text": [
      "Time to vectorize:  19.18\n",
      "Length of vocabulary: 3005\n"
     ]
    }
   ],
   "source": [
    "count_vec, vocab = vectorize.count(\n",
    "    df_sampled[\"text\"], \"logreg\", max_df=0.90, min_df=100, vocab=True\n",
    ")"
   ]
  },
  {
   "cell_type": "markdown",
   "id": "4736b8aa",
   "metadata": {},
   "source": [
    "### Train-Test Split"
   ]
  },
  {
   "cell_type": "code",
   "execution_count": 65,
   "id": "46828dc6",
   "metadata": {},
   "outputs": [],
   "source": [
    "y = tts.encode_outputs(df_sampled[\"class\"])"
   ]
  },
  {
   "cell_type": "code",
   "execution_count": 66,
   "id": "24f2228f",
   "metadata": {},
   "outputs": [],
   "source": [
    "X_train, X_test, y_train, y_test = tts.split(count_vec, y)"
   ]
  },
  {
   "cell_type": "markdown",
   "id": "f62b0cb8",
   "metadata": {},
   "source": [
    "### Training"
   ]
  },
  {
   "cell_type": "code",
   "execution_count": 67,
   "id": "f2823ed9",
   "metadata": {
    "tags": []
   },
   "outputs": [
    {
     "name": "stderr",
     "output_type": "stream",
     "text": [
      "/Users/brandon/anaconda3/lib/python3.7/site-packages/sklearn/linear_model/_sag.py:329: ConvergenceWarning: The max_iter was reached which means the coef_ did not converge\n",
      "  \"the coef_ did not converge\", ConvergenceWarning)\n"
     ]
    }
   ],
   "source": [
    "y_pred, model = logreg(X_train, y_train, X_test, \"logreg_tfidf\")"
   ]
  },
  {
   "cell_type": "markdown",
   "id": "fddb8f1e",
   "metadata": {},
   "source": [
    "### Metrics"
   ]
  },
  {
   "cell_type": "code",
   "execution_count": 68,
   "id": "4bad91b1",
   "metadata": {},
   "outputs": [
    {
     "data": {
      "text/plain": [
       "0.8740488169986278"
      ]
     },
     "execution_count": 68,
     "metadata": {},
     "output_type": "execute_result"
    }
   ],
   "source": [
    "model.score(X_train, y_train.argmax(axis=1))"
   ]
  },
  {
   "cell_type": "code",
   "execution_count": 69,
   "id": "09236f4e",
   "metadata": {},
   "outputs": [
    {
     "name": "stdout",
     "output_type": "stream",
     "text": [
      "0.8710428563508344\n",
      "0.6299828131063924\n"
     ]
    }
   ],
   "source": [
    "ml_stats.validation(y_test, y_pred)"
   ]
  },
  {
   "cell_type": "code",
   "execution_count": 70,
   "id": "d11b657d",
   "metadata": {},
   "outputs": [
    {
     "name": "stdout",
     "output_type": "stream",
     "text": [
      "Class 0 Accuracy: 0.9352661281398694\n",
      "Class 1 Accuracy: 0.8065555555555556\n"
     ]
    }
   ],
   "source": [
    "ml_stats.class_accuracies(y_test, y_pred)"
   ]
  },
  {
   "cell_type": "code",
   "execution_count": 71,
   "id": "d6d6eb48",
   "metadata": {},
   "outputs": [
    {
     "data": {
      "image/png": "[encoded data removed]",
      "text/plain": [
       "<Figure size 720x504 with 2 Axes>"
      ]
     },
     "metadata": {
      "needs_background": "light"
     },
     "output_type": "display_data"
    }
   ],
   "source": [
    "ml_stats.confusion_matrix_plot(y_test, y_pred, 2)"
   ]
  },
  {
   "cell_type": "code",
   "execution_count": 72,
   "id": "6f26b888",
   "metadata": {},
   "outputs": [
    {
     "name": "stdout",
     "output_type": "stream",
     "text": [
      "\n",
      "Accuracy: 0.87\n",
      "\n",
      "Micro Precision: 0.87\n",
      "Micro Recall: 0.87\n",
      "Micro F1-score: 0.87\n",
      "\n",
      "Macro Precision: 0.88\n",
      "Macro Recall: 0.87\n",
      "Macro F1-score: 0.87\n",
      "\n",
      "Weighted Precision: 0.88\n",
      "Weighted Recall: 0.87\n",
      "Weighted F1-score: 0.87\n",
      "\n",
      "Classification Report\n",
      "\n",
      "              precision    recall  f1-score   support\n",
      "\n",
      "     Class 0       0.83      0.94      0.88      9037\n",
      "     Class 1       0.93      0.81      0.86      9000\n",
      "\n",
      "    accuracy                           0.87     18037\n",
      "   macro avg       0.88      0.87      0.87     18037\n",
      "weighted avg       0.88      0.87      0.87     18037\n",
      "\n"
     ]
    }
   ],
   "source": [
    "ml_stats.stats(y_test, y_pred, 2)"
   ]
  },
  {
   "cell_type": "markdown",
   "id": "a3e43de6",
   "metadata": {},
   "source": [
    "## Low Count Vectorizer"
   ]
  },
  {
   "cell_type": "markdown",
   "id": "ecf8b2c6",
   "metadata": {},
   "source": [
    "### Vectorization"
   ]
  },
  {
   "cell_type": "code",
   "execution_count": 73,
   "id": "3949cf3e",
   "metadata": {},
   "outputs": [
    {
     "name": "stdout",
     "output_type": "stream",
     "text": [
      "Time to vectorize:  17.01\n",
      "Length of vocabulary: 3005\n"
     ]
    }
   ],
   "source": [
    "count_vec, vocab = vectorize.count(\n",
    "    df_sampled[\"text\"], \"l1_logreg\", max_df=0.90, min_df=100, vocab=True\n",
    ")"
   ]
  },
  {
   "cell_type": "markdown",
   "id": "aac6a9fe",
   "metadata": {},
   "source": [
    "### Train-Test Split"
   ]
  },
  {
   "cell_type": "code",
   "execution_count": 74,
   "id": "d4f2a985",
   "metadata": {},
   "outputs": [],
   "source": [
    "y = tts.encode_outputs(df_sampled[\"class\"])"
   ]
  },
  {
   "cell_type": "code",
   "execution_count": 75,
   "id": "07b71dd2",
   "metadata": {},
   "outputs": [],
   "source": [
    "X_train, X_test, y_train, y_test = tts.split(count_vec, y)"
   ]
  },
  {
   "cell_type": "markdown",
   "id": "fa9638d3",
   "metadata": {},
   "source": [
    "### Training"
   ]
  },
  {
   "cell_type": "code",
   "execution_count": 76,
   "id": "27836a7b",
   "metadata": {
    "tags": []
   },
   "outputs": [
    {
     "name": "stderr",
     "output_type": "stream",
     "text": [
      "/Users/brandon/anaconda3/lib/python3.7/site-packages/sklearn/linear_model/_sag.py:329: ConvergenceWarning: The max_iter was reached which means the coef_ did not converge\n",
      "  \"the coef_ did not converge\", ConvergenceWarning)\n"
     ]
    }
   ],
   "source": [
    "y_pred, model = logreg(X_train, y_train, X_test, \"logreg_tfidf\", C=1)"
   ]
  },
  {
   "cell_type": "markdown",
   "id": "1e10a940",
   "metadata": {},
   "source": [
    "### Metrics"
   ]
  },
  {
   "cell_type": "code",
   "execution_count": 77,
   "id": "2cb2cabc",
   "metadata": {},
   "outputs": [
    {
     "data": {
      "text/plain": [
       "0.8740210958182599"
      ]
     },
     "execution_count": 77,
     "metadata": {},
     "output_type": "execute_result"
    }
   ],
   "source": [
    "model.score(X_train, y_train.argmax(axis=1))"
   ]
  },
  {
   "cell_type": "code",
   "execution_count": 78,
   "id": "14d2f0de",
   "metadata": {},
   "outputs": [
    {
     "name": "stdout",
     "output_type": "stream",
     "text": [
      "0.8710982979431169\n",
      "0.6299273715141099\n"
     ]
    }
   ],
   "source": [
    "ml_stats.validation(y_test, y_pred)"
   ]
  },
  {
   "cell_type": "code",
   "execution_count": 79,
   "id": "f83d983f",
   "metadata": {},
   "outputs": [
    {
     "name": "stdout",
     "output_type": "stream",
     "text": [
      "Class 0 Accuracy: 0.9353767843310833\n",
      "Class 1 Accuracy: 0.8065555555555556\n"
     ]
    }
   ],
   "source": [
    "ml_stats.class_accuracies(y_test, y_pred)"
   ]
  },
  {
   "cell_type": "code",
   "execution_count": 80,
   "id": "85873db8",
   "metadata": {},
   "outputs": [
    {
     "data": {
      "image/png": "[encoded data removed]",
      "text/plain": [
       "<Figure size 720x504 with 2 Axes>"
      ]
     },
     "metadata": {
      "needs_background": "light"
     },
     "output_type": "display_data"
    }
   ],
   "source": [
    "ml_stats.confusion_matrix_plot(y_test, y_pred, 2)"
   ]
  },
  {
   "cell_type": "code",
   "execution_count": 81,
   "id": "a2d323bf",
   "metadata": {},
   "outputs": [
    {
     "name": "stdout",
     "output_type": "stream",
     "text": [
      "\n",
      "Accuracy: 0.87\n",
      "\n",
      "Micro Precision: 0.87\n",
      "Micro Recall: 0.87\n",
      "Micro F1-score: 0.87\n",
      "\n",
      "Macro Precision: 0.88\n",
      "Macro Recall: 0.87\n",
      "Macro F1-score: 0.87\n",
      "\n",
      "Weighted Precision: 0.88\n",
      "Weighted Recall: 0.87\n",
      "Weighted F1-score: 0.87\n",
      "\n",
      "Classification Report\n",
      "\n",
      "              precision    recall  f1-score   support\n",
      "\n",
      "     Class 0       0.83      0.94      0.88      9037\n",
      "     Class 1       0.93      0.81      0.86      9000\n",
      "\n",
      "    accuracy                           0.87     18037\n",
      "   macro avg       0.88      0.87      0.87     18037\n",
      "weighted avg       0.88      0.87      0.87     18037\n",
      "\n"
     ]
    }
   ],
   "source": [
    "ml_stats.stats(y_test, y_pred, 2)"
   ]
  },
  {
   "cell_type": "code",
   "execution_count": null,
   "id": "6a3fd410",
   "metadata": {},
   "outputs": [],
   "source": []
  }
 ],
 "metadata": {
  "kernelspec": {
   "display_name": "Python 3",
   "language": "python",
   "name": "python3"
  },
  "language_info": {
   "codemirror_mode": {
    "name": "ipython",
    "version": 3
   },
   "file_extension": ".py",
   "mimetype": "text/x-python",
   "name": "python",
   "nbconvert_exporter": "python",
   "pygments_lexer": "ipython3",
   "version": "3.7.9"
  }
 },
 "nbformat": 4,
 "nbformat_minor": 5
}
