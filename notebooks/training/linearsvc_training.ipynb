{
 "cells": [
  {
   "cell_type": "markdown",
   "id": "5eeb930e",
   "metadata": {},
   "source": [
    "# Linear SVC Training"
   ]
  },
  {
   "cell_type": "markdown",
   "id": "f565f1ca",
   "metadata": {},
   "source": [
    "## Python Imports"
   ]
  },
  {
   "cell_type": "code",
   "execution_count": 109,
   "id": "f0fef7c2",
   "metadata": {},
   "outputs": [],
   "source": [
    "import pickle\n",
    "\n",
    "import numpy as np\n",
    "from notebooks.utilities import data, ml_stats, sampling\n",
    "from notebooks.utilities import train_test_split as tts\n",
    "from notebooks.utilities import vectorize\n",
    "from sklearn.calibration import CalibratedClassifierCV\n",
    "from sklearn.feature_extraction.text import (\n",
    "    CountVectorizer,\n",
    "    TfidfTransformer,\n",
    "    TfidfVectorizer,\n",
    ")\n",
    "from sklearn.svm import LinearSVC"
   ]
  },
  {
   "cell_type": "code",
   "execution_count": 152,
   "id": "97ba5453",
   "metadata": {},
   "outputs": [
    {
     "data": {
      "text/html": [
       "<div>\n",
       "<style scoped>\n",
       "    .dataframe tbody tr th:only-of-type {\n",
       "        vertical-align: middle;\n",
       "    }\n",
       "\n",
       "    .dataframe tbody tr th {\n",
       "        vertical-align: top;\n",
       "    }\n",
       "\n",
       "    .dataframe thead th {\n",
       "        text-align: right;\n",
       "    }\n",
       "</style>\n",
       "<table border=\"1\" class=\"dataframe\">\n",
       "  <thead>\n",
       "    <tr style=\"text-align: right;\">\n",
       "      <th></th>\n",
       "      <th>class</th>\n",
       "      <th>text</th>\n",
       "    </tr>\n",
       "  </thead>\n",
       "  <tbody>\n",
       "    <tr>\n",
       "      <th>64848</th>\n",
       "      <td>0</td>\n",
       "      <td>freak nothing wikepedia</td>\n",
       "    </tr>\n",
       "    <tr>\n",
       "      <th>105872</th>\n",
       "      <td>0</td>\n",
       "      <td>Esperanza Election Thank much vote support fir...</td>\n",
       "    </tr>\n",
       "    <tr>\n",
       "      <th>168009</th>\n",
       "      <td>0</td>\n",
       "      <td>Edits Howdy edited segment represented Article...</td>\n",
       "    </tr>\n",
       "    <tr>\n",
       "      <th>159138</th>\n",
       "      <td>0</td>\n",
       "      <td>Gogo Dodo know protecting shameful selfpromote...</td>\n",
       "    </tr>\n",
       "    <tr>\n",
       "      <th>51723</th>\n",
       "      <td>0</td>\n",
       "      <td>SPI Case You mention something SPI case taken ...</td>\n",
       "    </tr>\n",
       "    <tr>\n",
       "      <th>...</th>\n",
       "      <td>...</td>\n",
       "      <td>...</td>\n",
       "    </tr>\n",
       "    <tr>\n",
       "      <th>182537</th>\n",
       "      <td>0</td>\n",
       "      <td>I asked earlier comment content contributors W...</td>\n",
       "    </tr>\n",
       "    <tr>\n",
       "      <th>19841</th>\n",
       "      <td>1</td>\n",
       "      <td>RT phishlicia tropicaldrew fag I miss like crazy</td>\n",
       "    </tr>\n",
       "    <tr>\n",
       "      <th>106374</th>\n",
       "      <td>0</td>\n",
       "      <td>School African Oriental LanguagesI run put ref...</td>\n",
       "    </tr>\n",
       "    <tr>\n",
       "      <th>163617</th>\n",
       "      <td>0</td>\n",
       "      <td>I like kitty I like kitty You told work syntax...</td>\n",
       "    </tr>\n",
       "    <tr>\n",
       "      <th>145699</th>\n",
       "      <td>0</td>\n",
       "      <td>Asha Bhosle Lata Mangeshkar undoubtedly famous...</td>\n",
       "    </tr>\n",
       "  </tbody>\n",
       "</table>\n",
       "<p>245464 rows × 2 columns</p>\n",
       "</div>"
      ],
      "text/plain": [
       "        class                                               text\n",
       "64848       0                            freak nothing wikepedia\n",
       "105872      0  Esperanza Election Thank much vote support fir...\n",
       "168009      0  Edits Howdy edited segment represented Article...\n",
       "159138      0  Gogo Dodo know protecting shameful selfpromote...\n",
       "51723       0  SPI Case You mention something SPI case taken ...\n",
       "...       ...                                                ...\n",
       "182537      0  I asked earlier comment content contributors W...\n",
       "19841       1   RT phishlicia tropicaldrew fag I miss like crazy\n",
       "106374      0  School African Oriental LanguagesI run put ref...\n",
       "163617      0  I like kitty I like kitty You told work syntax...\n",
       "145699      0  Asha Bhosle Lata Mangeshkar undoubtedly famous...\n",
       "\n",
       "[245464 rows x 2 columns]"
      ]
     },
     "execution_count": 152,
     "metadata": {},
     "output_type": "execute_result"
    }
   ],
   "source": [
    "df"
   ]
  },
  {
   "cell_type": "markdown",
   "id": "bdbd0fca",
   "metadata": {},
   "source": [
    "## Load Data"
   ]
  },
  {
   "cell_type": "code",
   "execution_count": 110,
   "id": "1cd355d3",
   "metadata": {},
   "outputs": [],
   "source": [
    "df = data.neutral()"
   ]
  },
  {
   "cell_type": "code",
   "execution_count": 111,
   "id": "55fe216b",
   "metadata": {},
   "outputs": [],
   "source": [
    "df_sampled = sampling.undersample(df)"
   ]
  },
  {
   "cell_type": "markdown",
   "id": "385d2b1f",
   "metadata": {
    "tags": []
   },
   "source": [
    "## Training Function"
   ]
  },
  {
   "cell_type": "code",
   "execution_count": 112,
   "id": "06d28b0e",
   "metadata": {},
   "outputs": [],
   "source": [
    "def linsvc(\n",
    "    X_train,\n",
    "    y_train,\n",
    "    X_test,\n",
    "    name,\n",
    "    penalty=\"l2\",\n",
    "    loss=\"squared_hinge\",\n",
    "    C=10000000,\n",
    "    max_iter=1000,\n",
    "):\n",
    "    svm = LinearSVC(penalty=penalty, loss=loss, C=C, max_iter=max_iter, dual=False)\n",
    "    clf = CalibratedClassifierCV(svm)\n",
    "    clf.fit(X_train, y_train.argmax(axis=1))\n",
    "    pickle.dump(\n",
    "        clf, open(f\"../../models/neutral_models/vectorizers/{name}.pkl\", \"wb\",),\n",
    "    )\n",
    "    return clf.predict(X_test), clf"
   ]
  },
  {
   "cell_type": "markdown",
   "id": "8c81ac46",
   "metadata": {},
   "source": [
    "## TF-IDF Vectorizer"
   ]
  },
  {
   "cell_type": "markdown",
   "id": "fdd2c38e",
   "metadata": {},
   "source": [
    "### Vectorization"
   ]
  },
  {
   "cell_type": "code",
   "execution_count": 113,
   "id": "7e9f4523",
   "metadata": {
    "tags": []
   },
   "outputs": [
    {
     "name": "stdout",
     "output_type": "stream",
     "text": [
      "Time to vectorize:  16.73\n",
      "Length of vocabulary: 3004\n"
     ]
    }
   ],
   "source": [
    "tfidf_vec, vocab = vectorize.tfidf(\n",
    "    df_sampled[\"text\"], \"linearsvc\", max_df=0.90, min_df=100, vocab=True\n",
    ")"
   ]
  },
  {
   "cell_type": "markdown",
   "id": "1df22c79",
   "metadata": {},
   "source": [
    "### Train-Test Splits"
   ]
  },
  {
   "cell_type": "code",
   "execution_count": 114,
   "id": "4414f49a",
   "metadata": {},
   "outputs": [],
   "source": [
    "y = tts.encode_outputs(df_sampled[\"class\"])"
   ]
  },
  {
   "cell_type": "code",
   "execution_count": 115,
   "id": "29333d95",
   "metadata": {},
   "outputs": [],
   "source": [
    "X_train, X_test, y_train, y_test = tts.split(tfidf_vec, y)"
   ]
  },
  {
   "cell_type": "markdown",
   "id": "e1396907",
   "metadata": {},
   "source": [
    "### Training"
   ]
  },
  {
   "cell_type": "code",
   "execution_count": 116,
   "id": "359359a7",
   "metadata": {},
   "outputs": [],
   "source": [
    "y_pred, model = linsvc(X_train, y_train, X_test, \"linearsvc_tfidf\")"
   ]
  },
  {
   "cell_type": "markdown",
   "id": "16ece28a",
   "metadata": {},
   "source": [
    "### Metrics"
   ]
  },
  {
   "cell_type": "code",
   "execution_count": 117,
   "id": "3dc603b4",
   "metadata": {},
   "outputs": [
    {
     "data": {
      "text/plain": [
       "0.8993166729039322"
      ]
     },
     "execution_count": 117,
     "metadata": {},
     "output_type": "execute_result"
    }
   ],
   "source": [
    "model.score(X_train, y_train.argmax(axis=1))"
   ]
  },
  {
   "cell_type": "code",
   "execution_count": 118,
   "id": "e39a048a",
   "metadata": {},
   "outputs": [
    {
     "name": "stdout",
     "output_type": "stream",
     "text": [
      "0.894106558740367\n",
      "0.6072517602705549\n"
     ]
    }
   ],
   "source": [
    "ml_stats.validation(y_test, y_pred)"
   ]
  },
  {
   "cell_type": "code",
   "execution_count": 119,
   "id": "66cea12b",
   "metadata": {},
   "outputs": [
    {
     "name": "stdout",
     "output_type": "stream",
     "text": [
      "Class 0 Accuracy: 0.9848501603450183\n",
      "Class 1 Accuracy: 0.8028685790527018\n"
     ]
    }
   ],
   "source": [
    "ml_stats.class_accuracies(y_test, y_pred)"
   ]
  },
  {
   "cell_type": "code",
   "execution_count": 120,
   "id": "ddbd8b70",
   "metadata": {},
   "outputs": [
    {
     "data": {
      "image/png": "[encoded data removed]",
      "text/plain": [
       "<Figure size 720x504 with 2 Axes>"
      ]
     },
     "metadata": {
      "needs_background": "light"
     },
     "output_type": "display_data"
    }
   ],
   "source": [
    "ml_stats.confusion_matrix_plot(y_test, y_pred, 2)"
   ]
  },
  {
   "cell_type": "code",
   "execution_count": 121,
   "id": "2644afd4",
   "metadata": {},
   "outputs": [
    {
     "name": "stdout",
     "output_type": "stream",
     "text": [
      "\n",
      "Accuracy: 0.89\n",
      "\n",
      "Micro Precision: 0.89\n",
      "Micro Recall: 0.89\n",
      "Micro F1-score: 0.89\n",
      "\n",
      "Macro Precision: 0.91\n",
      "Macro Recall: 0.89\n",
      "Macro F1-score: 0.89\n",
      "\n",
      "Weighted Precision: 0.91\n",
      "Weighted Recall: 0.89\n",
      "Weighted F1-score: 0.89\n",
      "\n",
      "Classification Report\n",
      "\n",
      "              precision    recall  f1-score   support\n",
      "\n",
      "     Class 0       0.83      0.98      0.90      9043\n",
      "     Class 1       0.98      0.80      0.88      8994\n",
      "\n",
      "    accuracy                           0.89     18037\n",
      "   macro avg       0.91      0.89      0.89     18037\n",
      "weighted avg       0.91      0.89      0.89     18037\n",
      "\n"
     ]
    }
   ],
   "source": [
    "ml_stats.stats(y_test, y_pred, 2)"
   ]
  },
  {
   "cell_type": "markdown",
   "id": "bbc66232",
   "metadata": {},
   "source": [
    "## Low TF-IDF Vectorizer"
   ]
  },
  {
   "cell_type": "markdown",
   "id": "5ee7c881",
   "metadata": {},
   "source": [
    "### Vectorization"
   ]
  },
  {
   "cell_type": "code",
   "execution_count": 122,
   "id": "1022a8d5",
   "metadata": {
    "tags": []
   },
   "outputs": [
    {
     "name": "stdout",
     "output_type": "stream",
     "text": [
      "Time to vectorize:  19.49\n",
      "Length of vocabulary: 3004\n"
     ]
    }
   ],
   "source": [
    "tfidf_vec, vocab = vectorize.tfidf(\n",
    "    df_sampled[\"text\"], \"l1_linearsvc\", max_df=0.90, min_df=100, vocab=True\n",
    ")"
   ]
  },
  {
   "cell_type": "markdown",
   "id": "185258d7",
   "metadata": {},
   "source": [
    "### Train-Test Splits"
   ]
  },
  {
   "cell_type": "code",
   "execution_count": 123,
   "id": "34126b66",
   "metadata": {},
   "outputs": [],
   "source": [
    "y = tts.encode_outputs(df_sampled[\"class\"])"
   ]
  },
  {
   "cell_type": "code",
   "execution_count": 124,
   "id": "284dfc4d",
   "metadata": {},
   "outputs": [],
   "source": [
    "X_train, X_test, y_train, y_test = tts.split(tfidf_vec, y)"
   ]
  },
  {
   "cell_type": "markdown",
   "id": "fd1963fb",
   "metadata": {},
   "source": [
    "### Training"
   ]
  },
  {
   "cell_type": "code",
   "execution_count": 125,
   "id": "7ad00541",
   "metadata": {},
   "outputs": [],
   "source": [
    "y_pred, model = linsvc(X_train, y_train, X_test, \"l1_linearsvc_tfidf\", C=1)"
   ]
  },
  {
   "cell_type": "markdown",
   "id": "1d8f745d",
   "metadata": {},
   "source": [
    "### Metrics"
   ]
  },
  {
   "cell_type": "code",
   "execution_count": 126,
   "id": "91b9b3fa",
   "metadata": {},
   "outputs": [
    {
     "data": {
      "text/plain": [
       "0.9228380944460615"
      ]
     },
     "execution_count": 126,
     "metadata": {},
     "output_type": "execute_result"
    }
   ],
   "source": [
    "model.score(X_train, y_train.argmax(axis=1))"
   ]
  },
  {
   "cell_type": "code",
   "execution_count": 127,
   "id": "ad1a9a2f",
   "metadata": {},
   "outputs": [
    {
     "name": "stdout",
     "output_type": "stream",
     "text": [
      "0.915118922215446\n",
      "0.586239396795476\n"
     ]
    }
   ],
   "source": [
    "ml_stats.validation(y_test, y_pred)"
   ]
  },
  {
   "cell_type": "code",
   "execution_count": 128,
   "id": "93031d49",
   "metadata": {},
   "outputs": [
    {
     "name": "stdout",
     "output_type": "stream",
     "text": [
      "Class 0 Accuracy: 0.9598584540528585\n",
      "Class 1 Accuracy: 0.8701356459862131\n"
     ]
    }
   ],
   "source": [
    "ml_stats.class_accuracies(y_test, y_pred)"
   ]
  },
  {
   "cell_type": "code",
   "execution_count": 129,
   "id": "e0e6b2e5",
   "metadata": {},
   "outputs": [
    {
     "data": {
      "image/png": "[encoded data removed]",
      "text/plain": [
       "<Figure size 720x504 with 2 Axes>"
      ]
     },
     "metadata": {
      "needs_background": "light"
     },
     "output_type": "display_data"
    }
   ],
   "source": [
    "ml_stats.confusion_matrix_plot(y_test, y_pred, 2)"
   ]
  },
  {
   "cell_type": "code",
   "execution_count": 130,
   "id": "9f9a2400",
   "metadata": {},
   "outputs": [
    {
     "name": "stdout",
     "output_type": "stream",
     "text": [
      "\n",
      "Accuracy: 0.92\n",
      "\n",
      "Micro Precision: 0.92\n",
      "Micro Recall: 0.92\n",
      "Micro F1-score: 0.92\n",
      "\n",
      "Macro Precision: 0.92\n",
      "Macro Recall: 0.91\n",
      "Macro F1-score: 0.91\n",
      "\n",
      "Weighted Precision: 0.92\n",
      "Weighted Recall: 0.92\n",
      "Weighted F1-score: 0.91\n",
      "\n",
      "Classification Report\n",
      "\n",
      "              precision    recall  f1-score   support\n",
      "\n",
      "     Class 0       0.88      0.96      0.92      9043\n",
      "     Class 1       0.96      0.87      0.91      8994\n",
      "\n",
      "    accuracy                           0.92     18037\n",
      "   macro avg       0.92      0.91      0.91     18037\n",
      "weighted avg       0.92      0.92      0.91     18037\n",
      "\n"
     ]
    }
   ],
   "source": [
    "ml_stats.stats(y_test, y_pred, 2)"
   ]
  },
  {
   "cell_type": "markdown",
   "id": "43a7d79b",
   "metadata": {
    "tags": []
   },
   "source": [
    "## Count Vectorizer"
   ]
  },
  {
   "cell_type": "markdown",
   "id": "4567dd25",
   "metadata": {},
   "source": [
    "### Vectorization"
   ]
  },
  {
   "cell_type": "code",
   "execution_count": 131,
   "id": "ad2d698d",
   "metadata": {
    "tags": []
   },
   "outputs": [
    {
     "name": "stdout",
     "output_type": "stream",
     "text": [
      "Time to vectorize:  19.77\n",
      "Length of vocabulary: 3004\n"
     ]
    }
   ],
   "source": [
    "count_vec, vocab = vectorize.count(\n",
    "    df_sampled[\"text\"], \"linearsvc\", max_df=0.90, min_df=100, vocab=True\n",
    ")"
   ]
  },
  {
   "cell_type": "markdown",
   "id": "489c5021",
   "metadata": {},
   "source": [
    "### Train-Test Split"
   ]
  },
  {
   "cell_type": "code",
   "execution_count": 132,
   "id": "4a7c4204",
   "metadata": {},
   "outputs": [],
   "source": [
    "y = tts.encode_outputs(df_sampled[\"class\"])"
   ]
  },
  {
   "cell_type": "code",
   "execution_count": 133,
   "id": "b73ae065",
   "metadata": {},
   "outputs": [],
   "source": [
    "X_train, X_test, y_train, y_test = tts.split(count_vec, y)"
   ]
  },
  {
   "cell_type": "markdown",
   "id": "8c9f3b0e",
   "metadata": {},
   "source": [
    "### Training"
   ]
  },
  {
   "cell_type": "code",
   "execution_count": 134,
   "id": "199bd6f5",
   "metadata": {},
   "outputs": [],
   "source": [
    "y_pred, model = linsvc(X_train, y_train, X_test, \"linearsvc_tfidf\")"
   ]
  },
  {
   "cell_type": "markdown",
   "id": "bb2bb84f",
   "metadata": {},
   "source": [
    "### Metrics"
   ]
  },
  {
   "cell_type": "code",
   "execution_count": 135,
   "id": "8c5d3dda",
   "metadata": {},
   "outputs": [
    {
     "data": {
      "text/plain": [
       "0.6783372836015358"
      ]
     },
     "execution_count": 135,
     "metadata": {},
     "output_type": "execute_result"
    }
   ],
   "source": [
    "model.score(X_train, y_train.argmax(axis=1))"
   ]
  },
  {
   "cell_type": "code",
   "execution_count": 136,
   "id": "5f7d2cdc",
   "metadata": {},
   "outputs": [
    {
     "name": "stdout",
     "output_type": "stream",
     "text": [
      "0.6771636081388257\n",
      "0.8241947108720963\n"
     ]
    }
   ],
   "source": [
    "ml_stats.validation(y_test, y_pred)"
   ]
  },
  {
   "cell_type": "code",
   "execution_count": 137,
   "id": "e5c77dcc",
   "metadata": {},
   "outputs": [
    {
     "name": "stdout",
     "output_type": "stream",
     "text": [
      "Class 0 Accuracy: 0.9984518412031406\n",
      "Class 1 Accuracy: 0.3541249722036913\n"
     ]
    }
   ],
   "source": [
    "ml_stats.class_accuracies(y_test, y_pred)"
   ]
  },
  {
   "cell_type": "code",
   "execution_count": 138,
   "id": "5f4c1d57",
   "metadata": {},
   "outputs": [
    {
     "data": {
      "image/png": "[encoded data removed]",
      "text/plain": [
       "<Figure size 720x504 with 2 Axes>"
      ]
     },
     "metadata": {
      "needs_background": "light"
     },
     "output_type": "display_data"
    }
   ],
   "source": [
    "ml_stats.confusion_matrix_plot(y_test, y_pred, 2)"
   ]
  },
  {
   "cell_type": "code",
   "execution_count": 139,
   "id": "bb9d1ef5",
   "metadata": {},
   "outputs": [
    {
     "name": "stdout",
     "output_type": "stream",
     "text": [
      "\n",
      "Accuracy: 0.68\n",
      "\n",
      "Micro Precision: 0.68\n",
      "Micro Recall: 0.68\n",
      "Micro F1-score: 0.68\n",
      "\n",
      "Macro Precision: 0.80\n",
      "Macro Recall: 0.68\n",
      "Macro F1-score: 0.64\n",
      "\n",
      "Weighted Precision: 0.80\n",
      "Weighted Recall: 0.68\n",
      "Weighted F1-score: 0.64\n",
      "\n",
      "Classification Report\n",
      "\n",
      "              precision    recall  f1-score   support\n",
      "\n",
      "     Class 0       0.61      1.00      0.76      9043\n",
      "     Class 1       1.00      0.35      0.52      8994\n",
      "\n",
      "    accuracy                           0.68     18037\n",
      "   macro avg       0.80      0.68      0.64     18037\n",
      "weighted avg       0.80      0.68      0.64     18037\n",
      "\n"
     ]
    }
   ],
   "source": [
    "ml_stats.stats(y_test, y_pred, 2)"
   ]
  },
  {
   "cell_type": "markdown",
   "id": "154dfd8d",
   "metadata": {
    "tags": []
   },
   "source": [
    "## Low Count Vectorizer"
   ]
  },
  {
   "cell_type": "markdown",
   "id": "c04c55bb",
   "metadata": {},
   "source": [
    "### Vectorization"
   ]
  },
  {
   "cell_type": "code",
   "execution_count": 140,
   "id": "0834cfb6",
   "metadata": {
    "tags": []
   },
   "outputs": [
    {
     "name": "stdout",
     "output_type": "stream",
     "text": [
      "Time to vectorize:  19.30\n",
      "Length of vocabulary: 3004\n"
     ]
    }
   ],
   "source": [
    "count_vec, vocab = vectorize.count(\n",
    "    df_sampled[\"text\"], \"linearsvc\", max_df=0.90, min_df=100, vocab=True\n",
    ")"
   ]
  },
  {
   "cell_type": "markdown",
   "id": "ee30673c",
   "metadata": {},
   "source": [
    "### Train-Test Split"
   ]
  },
  {
   "cell_type": "code",
   "execution_count": 141,
   "id": "3a30f42f",
   "metadata": {},
   "outputs": [],
   "source": [
    "y = tts.encode_outputs(df_sampled[\"class\"])"
   ]
  },
  {
   "cell_type": "code",
   "execution_count": 142,
   "id": "2a5e49d6",
   "metadata": {},
   "outputs": [],
   "source": [
    "X_train, X_test, y_train, y_test = tts.split(count_vec, y)"
   ]
  },
  {
   "cell_type": "markdown",
   "id": "efa5c311",
   "metadata": {},
   "source": [
    "### Training"
   ]
  },
  {
   "cell_type": "code",
   "execution_count": 143,
   "id": "45898d3e",
   "metadata": {},
   "outputs": [],
   "source": [
    "y_pred, model = linsvc(X_train, y_train, X_test, \"l1_linearsvc_tfidf\", C=1)"
   ]
  },
  {
   "cell_type": "markdown",
   "id": "c93bf81b",
   "metadata": {},
   "source": [
    "### Metrics"
   ]
  },
  {
   "cell_type": "code",
   "execution_count": 144,
   "id": "d39d35fb",
   "metadata": {},
   "outputs": [
    {
     "data": {
      "text/plain": [
       "0.663437149153811"
      ]
     },
     "execution_count": 144,
     "metadata": {},
     "output_type": "execute_result"
    }
   ],
   "source": [
    "model.score(X_train, y_train.argmax(axis=1))"
   ]
  },
  {
   "cell_type": "code",
   "execution_count": 145,
   "id": "b932ded8",
   "metadata": {},
   "outputs": [
    {
     "name": "stdout",
     "output_type": "stream",
     "text": [
      "0.6644120419138437\n",
      "0.8369462770970783\n"
     ]
    }
   ],
   "source": [
    "ml_stats.validation(y_test, y_pred)"
   ]
  },
  {
   "cell_type": "code",
   "execution_count": 146,
   "id": "beff2ef5",
   "metadata": {},
   "outputs": [
    {
     "name": "stdout",
     "output_type": "stream",
     "text": [
      "Class 0 Accuracy: 0.998673006745549\n",
      "Class 1 Accuracy: 0.3283299977762953\n"
     ]
    }
   ],
   "source": [
    "ml_stats.class_accuracies(y_test, y_pred)"
   ]
  },
  {
   "cell_type": "code",
   "execution_count": 147,
   "id": "4272cca9",
   "metadata": {},
   "outputs": [
    {
     "data": {
      "image/png": "[encoded data removed]",
      "text/plain": [
       "<Figure size 720x504 with 2 Axes>"
      ]
     },
     "metadata": {
      "needs_background": "light"
     },
     "output_type": "display_data"
    }
   ],
   "source": [
    "ml_stats.confusion_matrix_plot(y_test, y_pred, 2)"
   ]
  },
  {
   "cell_type": "code",
   "execution_count": 148,
   "id": "1c6b5ea6",
   "metadata": {},
   "outputs": [
    {
     "name": "stdout",
     "output_type": "stream",
     "text": [
      "\n",
      "Accuracy: 0.66\n",
      "\n",
      "Micro Precision: 0.66\n",
      "Micro Recall: 0.66\n",
      "Micro F1-score: 0.66\n",
      "\n",
      "Macro Precision: 0.80\n",
      "Macro Recall: 0.66\n",
      "Macro F1-score: 0.62\n",
      "\n",
      "Weighted Precision: 0.80\n",
      "Weighted Recall: 0.66\n",
      "Weighted F1-score: 0.62\n",
      "\n",
      "Classification Report\n",
      "\n",
      "              precision    recall  f1-score   support\n",
      "\n",
      "     Class 0       0.60      1.00      0.75      9043\n",
      "     Class 1       1.00      0.33      0.49      8994\n",
      "\n",
      "    accuracy                           0.66     18037\n",
      "   macro avg       0.80      0.66      0.62     18037\n",
      "weighted avg       0.80      0.66      0.62     18037\n",
      "\n"
     ]
    }
   ],
   "source": [
    "ml_stats.stats(y_test, y_pred, 2)"
   ]
  },
  {
   "cell_type": "code",
   "execution_count": null,
   "id": "79661745",
   "metadata": {},
   "outputs": [],
   "source": []
  }
 ],
 "metadata": {
  "interpreter": {
   "hash": "59f6b9cf8442ee5a477efd90620f7d1ed4dfce33b5f103e56fe0c5c790671650"
  },
  "kernelspec": {
   "display_name": "Python 3",
   "language": "python",
   "name": "python3"
  },
  "language_info": {
   "codemirror_mode": {
    "name": "ipython",
    "version": 3
   },
   "file_extension": ".py",
   "mimetype": "text/x-python",
   "name": "python",
   "nbconvert_exporter": "python",
   "pygments_lexer": "ipython3",
   "version": "3.7.9"
  }
 },
 "nbformat": 4,
 "nbformat_minor": 5
}
