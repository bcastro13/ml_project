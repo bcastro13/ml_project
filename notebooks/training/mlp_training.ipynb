{
 "cells": [
  {
   "cell_type": "markdown",
   "id": "1dab1bb4",
   "metadata": {},
   "source": [
    "# Multilayer Perceptron Training"
   ]
  },
  {
   "cell_type": "markdown",
   "id": "27a830e7",
   "metadata": {},
   "source": [
    "## Python Imports"
   ]
  },
  {
   "cell_type": "code",
   "execution_count": 1,
   "id": "899ec542",
   "metadata": {},
   "outputs": [],
   "source": [
    "import pickle\n",
    "\n",
    "import numpy as np\n",
    "from keras.layers import Dense\n",
    "from keras.models import Sequential\n",
    "from notebooks.utilities import data, ml_stats, sampling\n",
    "from notebooks.utilities import train_test_split as tts\n",
    "from notebooks.utilities import vectorize\n",
    "from sklearn.feature_extraction.text import (\n",
    "    CountVectorizer,\n",
    "    TfidfTransformer,\n",
    "    TfidfVectorizer,\n",
    ")"
   ]
  },
  {
   "cell_type": "markdown",
   "id": "08327c62",
   "metadata": {},
   "source": [
    "## Load Data"
   ]
  },
  {
   "cell_type": "code",
   "execution_count": 2,
   "id": "588c28ac",
   "metadata": {},
   "outputs": [],
   "source": [
    "df = data.neutral()"
   ]
  },
  {
   "cell_type": "code",
   "execution_count": 3,
   "id": "d0cc9308",
   "metadata": {},
   "outputs": [],
   "source": [
    "df_sampled = sampling.undersample(df)"
   ]
  },
  {
   "cell_type": "code",
   "execution_count": 38,
   "id": "86e988de",
   "metadata": {},
   "outputs": [
    {
     "data": {
      "text/plain": [
       "0    200372\n",
       "1     45092\n",
       "Name: class, dtype: int64"
      ]
     },
     "execution_count": 38,
     "metadata": {},
     "output_type": "execute_result"
    }
   ],
   "source": [
    "df[\"class\"].value_counts()"
   ]
  },
  {
   "cell_type": "markdown",
   "id": "72ab937c",
   "metadata": {},
   "source": [
    "## Relu Training Function"
   ]
  },
  {
   "cell_type": "code",
   "execution_count": 4,
   "id": "0185f251",
   "metadata": {},
   "outputs": [],
   "source": [
    "def mlp(\n",
    "    X_train, y_train, X_test, y_test, name, class_weight=None, epochs=15, batch_size=64,\n",
    "):\n",
    "    model = Sequential()\n",
    "    model.add(Dense(64, input_shape=(X_train.shape[1],), activation=\"relu\"))\n",
    "    model.add(Dense(64, activation=\"relu\"))\n",
    "    model.add(Dense(8, activation=\"relu\"))\n",
    "    model.add(Dense(y_train.shape[1], activation=\"softmax\"))\n",
    "    model.compile(loss=\"binary_crossentropy\", optimizer=\"adam\", metrics=[\"accuracy\"])\n",
    "    model.summary()\n",
    "\n",
    "    history = model.fit(\n",
    "        X_train,\n",
    "        y_train,\n",
    "        class_weight=class_weight,\n",
    "        epochs=epochs,\n",
    "        batch_size=batch_size,\n",
    "        validation_data=(X_test, y_test),\n",
    "    )\n",
    "    print(model.evaluate(X_train, y_train))\n",
    "    model.save(f\"../../models/neutral_models/{name}\")\n",
    "    return np.argmax(model.predict(X_test), axis=1), model, history"
   ]
  },
  {
   "cell_type": "markdown",
   "id": "0b8fa7e2",
   "metadata": {},
   "source": [
    "## Sigmoid Training Function"
   ]
  },
  {
   "cell_type": "code",
   "execution_count": 5,
   "id": "ba606b8a",
   "metadata": {},
   "outputs": [],
   "source": [
    "def sig_mlp(\n",
    "    X_train, y_train, X_test, y_test, name, class_weight=None, epochs=15, batch_size=64,\n",
    "):\n",
    "    model = Sequential()\n",
    "    model.add(Dense(64, input_shape=(X_train.shape[1],), activation=\"relu\"))\n",
    "    model.add(Dense(64, activation=\"sigmoid\"))\n",
    "    model.add(Dense(8, activation=\"sigmoid\"))\n",
    "    model.add(Dense(y_train.shape[1], activation=\"softmax\"))\n",
    "    model.compile(loss=\"binary_crossentropy\", optimizer=\"adam\", metrics=[\"accuracy\"])\n",
    "    model.summary()\n",
    "\n",
    "    history = model.fit(\n",
    "        X_train,\n",
    "        y_train,\n",
    "        class_weight=class_weight,\n",
    "        epochs=epochs,\n",
    "        batch_size=batch_size,\n",
    "        validation_data=(X_test, y_test),\n",
    "    )\n",
    "    print(model.evaluate(X_train, y_train))\n",
    "    model.save(f\"../../models/neutral_models/{name}\")\n",
    "    return np.argmax(model.predict(X_test), axis=1), model, history"
   ]
  },
  {
   "cell_type": "markdown",
   "id": "d8d4fea9",
   "metadata": {},
   "source": [
    "## TF-IDF Vectorizer"
   ]
  },
  {
   "cell_type": "markdown",
   "id": "0c831ddb",
   "metadata": {},
   "source": [
    "### Vectorization"
   ]
  },
  {
   "cell_type": "code",
   "execution_count": 6,
   "id": "cd4687ec",
   "metadata": {
    "tags": []
   },
   "outputs": [
    {
     "name": "stdout",
     "output_type": "stream",
     "text": [
      "Time to vectorize:  20.00\n",
      "Length of vocabulary: 5595\n"
     ]
    }
   ],
   "source": [
    "tfidf_vec, vocab = vectorize.tfidf(\n",
    "    df_sampled[\"text\"], \"mlp\", max_df=0.9, min_df=50, vocab=True\n",
    ")"
   ]
  },
  {
   "cell_type": "markdown",
   "id": "ba64f57e",
   "metadata": {},
   "source": [
    "### Train-Test Splits"
   ]
  },
  {
   "cell_type": "code",
   "execution_count": 7,
   "id": "3747986f",
   "metadata": {},
   "outputs": [],
   "source": [
    "y = tts.encode_outputs(df_sampled[\"class\"])"
   ]
  },
  {
   "cell_type": "code",
   "execution_count": 8,
   "id": "7351fb1e",
   "metadata": {},
   "outputs": [],
   "source": [
    "X_train, X_test, y_train, y_test = tts.split(tfidf_vec, y)"
   ]
  },
  {
   "cell_type": "markdown",
   "id": "09dd3244",
   "metadata": {},
   "source": [
    "### Training"
   ]
  },
  {
   "cell_type": "code",
   "execution_count": 9,
   "id": "4aaaa649",
   "metadata": {},
   "outputs": [
    {
     "name": "stdout",
     "output_type": "stream",
     "text": [
      "Model: \"sequential\"\n",
      "_________________________________________________________________\n",
      "Layer (type)                 Output Shape              Param #   \n",
      "=================================================================\n",
      "dense (Dense)                (None, 64)                358144    \n",
      "_________________________________________________________________\n",
      "dense_1 (Dense)              (None, 64)                4160      \n",
      "_________________________________________________________________\n",
      "dense_2 (Dense)              (None, 8)                 520       \n",
      "_________________________________________________________________\n",
      "dense_3 (Dense)              (None, 2)                 18        \n",
      "=================================================================\n",
      "Total params: 362,842\n",
      "Trainable params: 362,842\n",
      "Non-trainable params: 0\n",
      "_________________________________________________________________\n",
      "Epoch 1/10\n",
      "1128/1128 [==============================] - 4s 3ms/step - loss: 0.3449 - accuracy: 0.8419 - val_loss: 0.2146 - val_accuracy: 0.9127\n",
      "Epoch 2/10\n",
      "1128/1128 [==============================] - 2s 2ms/step - loss: 0.1831 - accuracy: 0.9272 - val_loss: 0.2076 - val_accuracy: 0.9173\n",
      "Epoch 3/10\n",
      "1128/1128 [==============================] - 2s 2ms/step - loss: 0.1569 - accuracy: 0.9363 - val_loss: 0.2073 - val_accuracy: 0.9189\n",
      "Epoch 4/10\n",
      "1128/1128 [==============================] - 2s 2ms/step - loss: 0.1245 - accuracy: 0.9501 - val_loss: 0.2336 - val_accuracy: 0.9152\n",
      "Epoch 5/10\n",
      "1128/1128 [==============================] - 2s 2ms/step - loss: 0.0887 - accuracy: 0.9663 - val_loss: 0.2914 - val_accuracy: 0.9101\n",
      "Epoch 6/10\n",
      "1128/1128 [==============================] - 2s 2ms/step - loss: 0.0564 - accuracy: 0.9803 - val_loss: 0.3474 - val_accuracy: 0.9097\n",
      "Epoch 7/10\n",
      "1128/1128 [==============================] - 2s 2ms/step - loss: 0.0360 - accuracy: 0.9877 - val_loss: 0.4573 - val_accuracy: 0.9081\n",
      "Epoch 8/10\n",
      "1128/1128 [==============================] - 2s 2ms/step - loss: 0.0243 - accuracy: 0.9915 - val_loss: 0.5395 - val_accuracy: 0.9104\n",
      "Epoch 9/10\n",
      "1128/1128 [==============================] - 2s 2ms/step - loss: 0.0199 - accuracy: 0.9933 - val_loss: 0.6079 - val_accuracy: 0.9064\n",
      "Epoch 10/10\n",
      "1128/1128 [==============================] - 2s 2ms/step - loss: 0.0175 - accuracy: 0.9938 - val_loss: 0.6114 - val_accuracy: 0.9066\n",
      "2255/2255 [==============================] - 2s 740us/step - loss: 0.0143 - accuracy: 0.9952\n",
      "[0.014307676814496517, 0.9951764941215515]\n",
      "INFO:tensorflow:Assets written to: ../../models/neutral_models/mlp_tfidf/assets\n"
     ]
    }
   ],
   "source": [
    "y_pred, model, history = mlp(X_train, y_train, X_test, y_test, \"mlp_tfidf\", epochs=10)"
   ]
  },
  {
   "cell_type": "markdown",
   "id": "f738fcde",
   "metadata": {},
   "source": [
    "### Metrics"
   ]
  },
  {
   "cell_type": "code",
   "execution_count": 10,
   "id": "8fb80d1d",
   "metadata": {},
   "outputs": [
    {
     "name": "stdout",
     "output_type": "stream",
     "text": [
      "0.9066363585962189\n",
      "0.5970505072905694\n"
     ]
    }
   ],
   "source": [
    "ml_stats.validation(y_test, y_pred)"
   ]
  },
  {
   "cell_type": "code",
   "execution_count": 11,
   "id": "db078ae2",
   "metadata": {},
   "outputs": [
    {
     "name": "stdout",
     "output_type": "stream",
     "text": [
      "Class 0 Accuracy: 0.9115024766097963\n",
      "Class 1 Accuracy: 0.9016979445933869\n"
     ]
    }
   ],
   "source": [
    "ml_stats.class_accuracies(y_test, y_pred)"
   ]
  },
  {
   "cell_type": "code",
   "execution_count": 12,
   "id": "f22097a5",
   "metadata": {},
   "outputs": [
    {
     "data": {
      "image/png": "[encoded data removed]",
      "text/plain": [
       "<Figure size 720x504 with 2 Axes>"
      ]
     },
     "metadata": {
      "needs_background": "light"
     },
     "output_type": "display_data"
    }
   ],
   "source": [
    "ml_stats.confusion_matrix_plot(y_test, y_pred, 2)"
   ]
  },
  {
   "cell_type": "code",
   "execution_count": 13,
   "id": "24e3bc19",
   "metadata": {},
   "outputs": [
    {
     "name": "stdout",
     "output_type": "stream",
     "text": [
      "\n",
      "Accuracy: 0.91\n",
      "\n",
      "Micro Precision: 0.91\n",
      "Micro Recall: 0.91\n",
      "Micro F1-score: 0.91\n",
      "\n",
      "Macro Precision: 0.91\n",
      "Macro Recall: 0.91\n",
      "Macro F1-score: 0.91\n",
      "\n",
      "Weighted Precision: 0.91\n",
      "Weighted Recall: 0.91\n",
      "Weighted F1-score: 0.91\n",
      "\n",
      "Classification Report\n",
      "\n",
      "              precision    recall  f1-score   support\n",
      "\n",
      "     Class 0       0.90      0.91      0.91      9085\n",
      "     Class 1       0.91      0.90      0.91      8952\n",
      "\n",
      "    accuracy                           0.91     18037\n",
      "   macro avg       0.91      0.91      0.91     18037\n",
      "weighted avg       0.91      0.91      0.91     18037\n",
      "\n"
     ]
    }
   ],
   "source": [
    "ml_stats.stats(y_test, y_pred, 2)"
   ]
  },
  {
   "cell_type": "markdown",
   "id": "7e91915c",
   "metadata": {},
   "source": [
    "## Sigmoid TF-IDF Vectorizer"
   ]
  },
  {
   "cell_type": "markdown",
   "id": "b282bf47",
   "metadata": {},
   "source": [
    "### Vectorization"
   ]
  },
  {
   "cell_type": "code",
   "execution_count": 14,
   "id": "6581a4ac",
   "metadata": {
    "tags": []
   },
   "outputs": [
    {
     "name": "stdout",
     "output_type": "stream",
     "text": [
      "Time to vectorize:  19.17\n",
      "Length of vocabulary: 5595\n"
     ]
    }
   ],
   "source": [
    "tfidf_vec, vocab = vectorize.tfidf(\n",
    "    df_sampled[\"text\"], \"sig_mlp\", max_df=0.9, min_df=50, vocab=True\n",
    ")"
   ]
  },
  {
   "cell_type": "markdown",
   "id": "4b8ae9be",
   "metadata": {},
   "source": [
    "### Train-Test Splits"
   ]
  },
  {
   "cell_type": "code",
   "execution_count": 15,
   "id": "f8403dd0",
   "metadata": {},
   "outputs": [],
   "source": [
    "y = tts.encode_outputs(df_sampled[\"class\"])"
   ]
  },
  {
   "cell_type": "code",
   "execution_count": 16,
   "id": "70e3fc77",
   "metadata": {},
   "outputs": [],
   "source": [
    "X_train, X_test, y_train, y_test = tts.split(tfidf_vec, y)"
   ]
  },
  {
   "cell_type": "markdown",
   "id": "d450a759",
   "metadata": {},
   "source": [
    "### Training"
   ]
  },
  {
   "cell_type": "code",
   "execution_count": 17,
   "id": "63a6edf7",
   "metadata": {},
   "outputs": [
    {
     "name": "stdout",
     "output_type": "stream",
     "text": [
      "Model: \"sequential_1\"\n",
      "_________________________________________________________________\n",
      "Layer (type)                 Output Shape              Param #   \n",
      "=================================================================\n",
      "dense_4 (Dense)              (None, 64)                358144    \n",
      "_________________________________________________________________\n",
      "dense_5 (Dense)              (None, 64)                4160      \n",
      "_________________________________________________________________\n",
      "dense_6 (Dense)              (None, 8)                 520       \n",
      "_________________________________________________________________\n",
      "dense_7 (Dense)              (None, 2)                 18        \n",
      "=================================================================\n",
      "Total params: 362,842\n",
      "Trainable params: 362,842\n",
      "Non-trainable params: 0\n",
      "_________________________________________________________________\n",
      "Epoch 1/10\n",
      "1128/1128 [==============================] - 3s 2ms/step - loss: 0.4666 - accuracy: 0.7993 - val_loss: 0.2304 - val_accuracy: 0.9137\n",
      "Epoch 2/10\n",
      "1128/1128 [==============================] - 2s 2ms/step - loss: 0.2004 - accuracy: 0.9287 - val_loss: 0.2146 - val_accuracy: 0.9166\n",
      "Epoch 3/10\n",
      "1128/1128 [==============================] - 2s 2ms/step - loss: 0.1761 - accuracy: 0.9369 - val_loss: 0.2073 - val_accuracy: 0.9201\n",
      "Epoch 4/10\n",
      "1128/1128 [==============================] - 2s 2ms/step - loss: 0.1623 - accuracy: 0.9396 - val_loss: 0.2066 - val_accuracy: 0.9181\n",
      "Epoch 5/10\n",
      "1128/1128 [==============================] - 2s 2ms/step - loss: 0.1555 - accuracy: 0.9421 - val_loss: 0.2082 - val_accuracy: 0.9202\n",
      "Epoch 6/10\n",
      "1128/1128 [==============================] - 2s 2ms/step - loss: 0.1502 - accuracy: 0.9444 - val_loss: 0.2115 - val_accuracy: 0.9184\n",
      "Epoch 7/10\n",
      "1128/1128 [==============================] - 3s 3ms/step - loss: 0.1380 - accuracy: 0.9490 - val_loss: 0.2146 - val_accuracy: 0.9199\n",
      "Epoch 8/10\n",
      "1128/1128 [==============================] - 3s 2ms/step - loss: 0.1289 - accuracy: 0.9508 - val_loss: 0.2171 - val_accuracy: 0.9187\n",
      "Epoch 9/10\n",
      "1128/1128 [==============================] - 2s 2ms/step - loss: 0.1117 - accuracy: 0.9559 - val_loss: 0.2282 - val_accuracy: 0.9186\n",
      "Epoch 10/10\n",
      "1128/1128 [==============================] - 2s 2ms/step - loss: 0.1076 - accuracy: 0.9544 - val_loss: 0.2511 - val_accuracy: 0.9167\n",
      "2255/2255 [==============================] - 2s 857us/step - loss: 0.0918 - accuracy: 0.9618\n",
      "[0.09175088256597519, 0.9618140459060669]\n",
      "INFO:tensorflow:Assets written to: ../../models/neutral_models/sig_mlp_tfidf/assets\n"
     ]
    }
   ],
   "source": [
    "y_pred, model, history = sig_mlp(\n",
    "    X_train, y_train, X_test, y_test, \"sig_mlp_tfidf\", epochs=10\n",
    ")"
   ]
  },
  {
   "cell_type": "markdown",
   "id": "bf2cfe6d",
   "metadata": {},
   "source": [
    "### Metrics"
   ]
  },
  {
   "cell_type": "code",
   "execution_count": 18,
   "id": "9ad7e05b",
   "metadata": {},
   "outputs": [
    {
     "name": "stdout",
     "output_type": "stream",
     "text": [
      "0.9167267283916394\n",
      "0.5869601374951489\n"
     ]
    }
   ],
   "source": [
    "ml_stats.validation(y_test, y_pred)"
   ]
  },
  {
   "cell_type": "code",
   "execution_count": 19,
   "id": "bb71c484",
   "metadata": {},
   "outputs": [
    {
     "name": "stdout",
     "output_type": "stream",
     "text": [
      "Class 0 Accuracy: 0.9368189323059989\n",
      "Class 1 Accuracy: 0.8963360142984808\n"
     ]
    }
   ],
   "source": [
    "ml_stats.class_accuracies(y_test, y_pred)"
   ]
  },
  {
   "cell_type": "code",
   "execution_count": 20,
   "id": "4d202707",
   "metadata": {},
   "outputs": [
    {
     "data": {
      "image/png": "[encoded data removed]",
      "text/plain": [
       "<Figure size 720x504 with 2 Axes>"
      ]
     },
     "metadata": {
      "needs_background": "light"
     },
     "output_type": "display_data"
    }
   ],
   "source": [
    "ml_stats.confusion_matrix_plot(y_test, y_pred, 2)"
   ]
  },
  {
   "cell_type": "code",
   "execution_count": 21,
   "id": "9a6e8906",
   "metadata": {},
   "outputs": [
    {
     "name": "stdout",
     "output_type": "stream",
     "text": [
      "\n",
      "Accuracy: 0.92\n",
      "\n",
      "Micro Precision: 0.92\n",
      "Micro Recall: 0.92\n",
      "Micro F1-score: 0.92\n",
      "\n",
      "Macro Precision: 0.92\n",
      "Macro Recall: 0.92\n",
      "Macro F1-score: 0.92\n",
      "\n",
      "Weighted Precision: 0.92\n",
      "Weighted Recall: 0.92\n",
      "Weighted F1-score: 0.92\n",
      "\n",
      "Classification Report\n",
      "\n",
      "              precision    recall  f1-score   support\n",
      "\n",
      "     Class 0       0.90      0.94      0.92      9085\n",
      "     Class 1       0.93      0.90      0.91      8952\n",
      "\n",
      "    accuracy                           0.92     18037\n",
      "   macro avg       0.92      0.92      0.92     18037\n",
      "weighted avg       0.92      0.92      0.92     18037\n",
      "\n"
     ]
    }
   ],
   "source": [
    "ml_stats.stats(y_test, y_pred, 2)"
   ]
  },
  {
   "cell_type": "markdown",
   "id": "d00367e5",
   "metadata": {},
   "source": [
    "## Count Vectorizer"
   ]
  },
  {
   "cell_type": "markdown",
   "id": "c5d55b0c",
   "metadata": {},
   "source": [
    "### Vectorization"
   ]
  },
  {
   "cell_type": "code",
   "execution_count": 22,
   "id": "01842055",
   "metadata": {},
   "outputs": [
    {
     "name": "stdout",
     "output_type": "stream",
     "text": [
      "Time to vectorize:  17.96\n",
      "Length of vocabulary: 5595\n"
     ]
    }
   ],
   "source": [
    "count_vec, vocab = vectorize.count(\n",
    "    df_sampled[\"text\"], \"mlp\", max_df=0.9, min_df=50, vocab=True\n",
    ")"
   ]
  },
  {
   "cell_type": "markdown",
   "id": "01a1392a",
   "metadata": {},
   "source": [
    "### Train-Test-Splits"
   ]
  },
  {
   "cell_type": "code",
   "execution_count": 23,
   "id": "924af72f",
   "metadata": {},
   "outputs": [],
   "source": [
    "X_train, X_test, y_train, y_test = tts.split(count_vec, y)"
   ]
  },
  {
   "cell_type": "markdown",
   "id": "920bcb1b",
   "metadata": {},
   "source": [
    "### Training"
   ]
  },
  {
   "cell_type": "code",
   "execution_count": 24,
   "id": "b014d148",
   "metadata": {},
   "outputs": [
    {
     "name": "stdout",
     "output_type": "stream",
     "text": [
      "Model: \"sequential_2\"\n",
      "_________________________________________________________________\n",
      "Layer (type)                 Output Shape              Param #   \n",
      "=================================================================\n",
      "dense_8 (Dense)              (None, 64)                358144    \n",
      "_________________________________________________________________\n",
      "dense_9 (Dense)              (None, 64)                4160      \n",
      "_________________________________________________________________\n",
      "dense_10 (Dense)             (None, 8)                 520       \n",
      "_________________________________________________________________\n",
      "dense_11 (Dense)             (None, 2)                 18        \n",
      "=================================================================\n",
      "Total params: 362,842\n",
      "Trainable params: 362,842\n",
      "Non-trainable params: 0\n",
      "_________________________________________________________________\n",
      "Epoch 1/10\n",
      "1128/1128 [==============================] - 3s 3ms/step - loss: 0.3388 - accuracy: 0.8668 - val_loss: 0.2097 - val_accuracy: 0.9179\n",
      "Epoch 2/10\n",
      "1128/1128 [==============================] - 3s 2ms/step - loss: 0.1539 - accuracy: 0.9409 - val_loss: 0.2154 - val_accuracy: 0.9168\n",
      "Epoch 3/10\n",
      "1128/1128 [==============================] - 3s 2ms/step - loss: 0.1074 - accuracy: 0.9589 - val_loss: 0.2504 - val_accuracy: 0.9142\n",
      "Epoch 4/10\n",
      "1128/1128 [==============================] - 3s 3ms/step - loss: 0.0706 - accuracy: 0.9747 - val_loss: 0.3289 - val_accuracy: 0.9105\n",
      "Epoch 5/10\n",
      "1128/1128 [==============================] - 3s 3ms/step - loss: 0.0473 - accuracy: 0.9825 - val_loss: 0.4060 - val_accuracy: 0.9093\n",
      "Epoch 6/10\n",
      "1128/1128 [==============================] - 3s 2ms/step - loss: 0.0320 - accuracy: 0.9885 - val_loss: 0.4615 - val_accuracy: 0.9079\n",
      "Epoch 7/10\n",
      "1128/1128 [==============================] - 3s 2ms/step - loss: 0.0253 - accuracy: 0.9913 - val_loss: 0.5491 - val_accuracy: 0.9092\n",
      "Epoch 8/10\n",
      "1128/1128 [==============================] - 3s 2ms/step - loss: 0.0189 - accuracy: 0.9938 - val_loss: 0.6260 - val_accuracy: 0.9047\n",
      "Epoch 9/10\n",
      "1128/1128 [==============================] - 3s 2ms/step - loss: 0.0162 - accuracy: 0.9941 - val_loss: 0.6167 - val_accuracy: 0.9056\n",
      "Epoch 10/10\n",
      "1128/1128 [==============================] - 3s 3ms/step - loss: 0.0139 - accuracy: 0.9947 - val_loss: 0.6974 - val_accuracy: 0.9004\n",
      "2255/2255 [==============================] - 3s 1ms/step - loss: 0.0160 - accuracy: 0.9942\n",
      "[0.016019687056541443, 0.9942478537559509]\n",
      "INFO:tensorflow:Assets written to: ../../models/neutral_models/mlp_count/assets\n"
     ]
    }
   ],
   "source": [
    "y_pred, model, history = mlp(X_train, y_train, X_test, y_test, \"mlp_count\", epochs=10)"
   ]
  },
  {
   "cell_type": "markdown",
   "id": "ae422b04",
   "metadata": {},
   "source": [
    "### Metrics"
   ]
  },
  {
   "cell_type": "code",
   "execution_count": 25,
   "id": "ca8fd8bb",
   "metadata": {},
   "outputs": [
    {
     "name": "stdout",
     "output_type": "stream",
     "text": [
      "0.9003714586682929\n",
      "0.6033154072184953\n"
     ]
    }
   ],
   "source": [
    "ml_stats.validation(y_test, y_pred)"
   ]
  },
  {
   "cell_type": "code",
   "execution_count": 26,
   "id": "ff34b202",
   "metadata": {},
   "outputs": [
    {
     "name": "stdout",
     "output_type": "stream",
     "text": [
      "Class 0 Accuracy: 0.8910291689598239\n",
      "Class 1 Accuracy: 0.9098525469168901\n"
     ]
    }
   ],
   "source": [
    "ml_stats.class_accuracies(y_test, y_pred)"
   ]
  },
  {
   "cell_type": "code",
   "execution_count": 27,
   "id": "ba932c20",
   "metadata": {},
   "outputs": [
    {
     "data": {
      "image/png": "[encoded data removed]",
      "text/plain": [
       "<Figure size 720x504 with 2 Axes>"
      ]
     },
     "metadata": {
      "needs_background": "light"
     },
     "output_type": "display_data"
    }
   ],
   "source": [
    "ml_stats.confusion_matrix_plot(y_test, y_pred, 2)"
   ]
  },
  {
   "cell_type": "code",
   "execution_count": 28,
   "id": "a424e98c",
   "metadata": {},
   "outputs": [
    {
     "name": "stdout",
     "output_type": "stream",
     "text": [
      "\n",
      "Accuracy: 0.90\n",
      "\n",
      "Micro Precision: 0.90\n",
      "Micro Recall: 0.90\n",
      "Micro F1-score: 0.90\n",
      "\n",
      "Macro Precision: 0.90\n",
      "Macro Recall: 0.90\n",
      "Macro F1-score: 0.90\n",
      "\n",
      "Weighted Precision: 0.90\n",
      "Weighted Recall: 0.90\n",
      "Weighted F1-score: 0.90\n",
      "\n",
      "Classification Report\n",
      "\n",
      "              precision    recall  f1-score   support\n",
      "\n",
      "     Class 0       0.91      0.89      0.90      9085\n",
      "     Class 1       0.89      0.91      0.90      8952\n",
      "\n",
      "    accuracy                           0.90     18037\n",
      "   macro avg       0.90      0.90      0.90     18037\n",
      "weighted avg       0.90      0.90      0.90     18037\n",
      "\n"
     ]
    }
   ],
   "source": [
    "ml_stats.stats(y_test, y_pred, 2)"
   ]
  },
  {
   "cell_type": "markdown",
   "id": "44dc99d2",
   "metadata": {},
   "source": [
    "## Sigmoid Count Vectorizer"
   ]
  },
  {
   "cell_type": "markdown",
   "id": "fcdb04d3",
   "metadata": {},
   "source": [
    "### Vectorization"
   ]
  },
  {
   "cell_type": "code",
   "execution_count": 29,
   "id": "1718df8a",
   "metadata": {},
   "outputs": [
    {
     "name": "stdout",
     "output_type": "stream",
     "text": [
      "Time to vectorize:  18.98\n",
      "Length of vocabulary: 5595\n"
     ]
    }
   ],
   "source": [
    "count_vec, vocab = vectorize.count(\n",
    "    df_sampled[\"text\"], \"sig_mlp\", max_df=0.9, min_df=50, vocab=True\n",
    ")"
   ]
  },
  {
   "cell_type": "markdown",
   "id": "1cb2de93",
   "metadata": {},
   "source": [
    "### Train-Test-Splits"
   ]
  },
  {
   "cell_type": "code",
   "execution_count": 30,
   "id": "f28449da",
   "metadata": {},
   "outputs": [],
   "source": [
    "X_train, X_test, y_train, y_test = tts.split(count_vec, y)"
   ]
  },
  {
   "cell_type": "markdown",
   "id": "22ab1b32",
   "metadata": {},
   "source": [
    "### Training"
   ]
  },
  {
   "cell_type": "code",
   "execution_count": 31,
   "id": "d423ebf5",
   "metadata": {},
   "outputs": [
    {
     "name": "stdout",
     "output_type": "stream",
     "text": [
      "Model: \"sequential_3\"\n",
      "_________________________________________________________________\n",
      "Layer (type)                 Output Shape              Param #   \n",
      "=================================================================\n",
      "dense_12 (Dense)             (None, 64)                358144    \n",
      "_________________________________________________________________\n",
      "dense_13 (Dense)             (None, 64)                4160      \n",
      "_________________________________________________________________\n",
      "dense_14 (Dense)             (None, 8)                 520       \n",
      "_________________________________________________________________\n",
      "dense_15 (Dense)             (None, 2)                 18        \n",
      "=================================================================\n",
      "Total params: 362,842\n",
      "Trainable params: 362,842\n",
      "Non-trainable params: 0\n",
      "_________________________________________________________________\n",
      "Epoch 1/10\n",
      "1128/1128 [==============================] - 4s 3ms/step - loss: 0.3473 - accuracy: 0.8630 - val_loss: 0.2133 - val_accuracy: 0.9153\n",
      "Epoch 2/10\n",
      "1128/1128 [==============================] - 3s 3ms/step - loss: 0.1571 - accuracy: 0.9404 - val_loss: 0.2110 - val_accuracy: 0.9182\n",
      "Epoch 3/10\n",
      "1128/1128 [==============================] - 3s 3ms/step - loss: 0.1128 - accuracy: 0.9569 - val_loss: 0.2553 - val_accuracy: 0.9153\n",
      "Epoch 4/10\n",
      "1128/1128 [==============================] - 3s 3ms/step - loss: 0.0771 - accuracy: 0.9715 - val_loss: 0.3135 - val_accuracy: 0.9153\n",
      "Epoch 5/10\n",
      "1128/1128 [==============================] - 3s 3ms/step - loss: 0.0529 - accuracy: 0.9810 - val_loss: 0.4137 - val_accuracy: 0.9106\n",
      "Epoch 6/10\n",
      "1128/1128 [==============================] - 3s 3ms/step - loss: 0.0370 - accuracy: 0.9871 - val_loss: 0.4827 - val_accuracy: 0.9090\n",
      "Epoch 7/10\n",
      "1128/1128 [==============================] - 3s 3ms/step - loss: 0.0267 - accuracy: 0.9906 - val_loss: 0.5256 - val_accuracy: 0.9082\n",
      "Epoch 8/10\n",
      "1128/1128 [==============================] - 3s 2ms/step - loss: 0.0197 - accuracy: 0.9927 - val_loss: 0.5938 - val_accuracy: 0.9083\n",
      "Epoch 9/10\n",
      "1128/1128 [==============================] - 3s 2ms/step - loss: 0.0168 - accuracy: 0.9938 - val_loss: 0.6764 - val_accuracy: 0.9070\n",
      "Epoch 10/10\n",
      "1128/1128 [==============================] - 3s 2ms/step - loss: 0.0138 - accuracy: 0.9951 - val_loss: 0.7130 - val_accuracy: 0.9060\n",
      "2255/2255 [==============================] - 3s 1ms/step - loss: 0.0139 - accuracy: 0.9947\n",
      "[0.01391514204442501, 0.9946913719177246]\n",
      "INFO:tensorflow:Assets written to: ../../models/neutral_models/sig_mlp_count/assets\n"
     ]
    }
   ],
   "source": [
    "y_pred, model, history = mlp(\n",
    "    X_train, y_train, X_test, y_test, \"sig_mlp_count\", epochs=10\n",
    ")"
   ]
  },
  {
   "cell_type": "markdown",
   "id": "b25fcc30",
   "metadata": {},
   "source": [
    "### Metrics"
   ]
  },
  {
   "cell_type": "code",
   "execution_count": 32,
   "id": "9e8adf34",
   "metadata": {},
   "outputs": [
    {
     "name": "stdout",
     "output_type": "stream",
     "text": [
      "0.9059710594888285\n",
      "0.5977158063979597\n"
     ]
    }
   ],
   "source": [
    "ml_stats.validation(y_test, y_pred)"
   ]
  },
  {
   "cell_type": "code",
   "execution_count": 33,
   "id": "ab1d70a9",
   "metadata": {},
   "outputs": [
    {
     "name": "stdout",
     "output_type": "stream",
     "text": [
      "Class 0 Accuracy: 0.9270225646670336\n",
      "Class 1 Accuracy: 0.8846067917783735\n"
     ]
    }
   ],
   "source": [
    "ml_stats.class_accuracies(y_test, y_pred)"
   ]
  },
  {
   "cell_type": "code",
   "execution_count": 34,
   "id": "f6a81a55",
   "metadata": {},
   "outputs": [
    {
     "data": {
      "image/png": "[encoded data removed]",
      "text/plain": [
       "<Figure size 720x504 with 2 Axes>"
      ]
     },
     "metadata": {
      "needs_background": "light"
     },
     "output_type": "display_data"
    }
   ],
   "source": [
    "ml_stats.confusion_matrix_plot(y_test, y_pred, 2)"
   ]
  },
  {
   "cell_type": "code",
   "execution_count": 35,
   "id": "069ecc63",
   "metadata": {},
   "outputs": [
    {
     "name": "stdout",
     "output_type": "stream",
     "text": [
      "\n",
      "Accuracy: 0.91\n",
      "\n",
      "Micro Precision: 0.91\n",
      "Micro Recall: 0.91\n",
      "Micro F1-score: 0.91\n",
      "\n",
      "Macro Precision: 0.91\n",
      "Macro Recall: 0.91\n",
      "Macro F1-score: 0.91\n",
      "\n",
      "Weighted Precision: 0.91\n",
      "Weighted Recall: 0.91\n",
      "Weighted F1-score: 0.91\n",
      "\n",
      "Classification Report\n",
      "\n",
      "              precision    recall  f1-score   support\n",
      "\n",
      "     Class 0       0.89      0.93      0.91      9085\n",
      "     Class 1       0.92      0.88      0.90      8952\n",
      "\n",
      "    accuracy                           0.91     18037\n",
      "   macro avg       0.91      0.91      0.91     18037\n",
      "weighted avg       0.91      0.91      0.91     18037\n",
      "\n"
     ]
    }
   ],
   "source": [
    "ml_stats.stats(y_test, y_pred, 2)"
   ]
  },
  {
   "cell_type": "code",
   "execution_count": null,
   "id": "e23a732b",
   "metadata": {},
   "outputs": [],
   "source": []
  }
 ],
 "metadata": {
  "kernelspec": {
   "display_name": "Python 3",
   "language": "python",
   "name": "python3"
  },
  "language_info": {
   "codemirror_mode": {
    "name": "ipython",
    "version": 3
   },
   "file_extension": ".py",
   "mimetype": "text/x-python",
   "name": "python",
   "nbconvert_exporter": "python",
   "pygments_lexer": "ipython3",
   "version": "3.7.9"
  }
 },
 "nbformat": 4,
 "nbformat_minor": 5
}
