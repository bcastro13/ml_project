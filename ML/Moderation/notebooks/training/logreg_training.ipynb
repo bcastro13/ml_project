{
 "cells": [
  {
   "cell_type": "markdown",
   "id": "c665e3c3",
   "metadata": {},
   "source": [
    "# Logistic Regression Training"
   ]
  },
  {
   "cell_type": "markdown",
   "id": "a8d017d0",
   "metadata": {},
   "source": [
    "## Python Imports"
   ]
  },
  {
   "cell_type": "code",
   "execution_count": 2,
   "id": "c2458026",
   "metadata": {},
   "outputs": [],
   "source": [
    "import pickle\n",
    "\n",
    "import numpy as np\n",
    "from ML.Moderation.notebooks.utilities import data, ml_stats, sampling\n",
    "from ML.Moderation.notebooks.utilities import train_test_split as tts\n",
    "from ML.Moderation.notebooks.utilities import vectorize\n",
    "from sklearn.feature_extraction.text import (\n",
    "    CountVectorizer,\n",
    "    TfidfTransformer,\n",
    "    TfidfVectorizer,\n",
    ")\n",
    "from sklearn.linear_model import LogisticRegression"
   ]
  },
  {
   "cell_type": "markdown",
   "id": "d291cdd5",
   "metadata": {},
   "source": [
    "## Load data"
   ]
  },
  {
   "cell_type": "code",
   "execution_count": 3,
   "id": "bc0b8f56",
   "metadata": {},
   "outputs": [],
   "source": [
    "df = data.neutral()"
   ]
  },
  {
   "cell_type": "code",
   "execution_count": 4,
   "id": "da12212a",
   "metadata": {},
   "outputs": [
    {
     "data": {
      "text/html": [
       "<div>\n",
       "<style scoped>\n",
       "    .dataframe tbody tr th:only-of-type {\n",
       "        vertical-align: middle;\n",
       "    }\n",
       "\n",
       "    .dataframe tbody tr th {\n",
       "        vertical-align: top;\n",
       "    }\n",
       "\n",
       "    .dataframe thead th {\n",
       "        text-align: right;\n",
       "    }\n",
       "</style>\n",
       "<table border=\"1\" class=\"dataframe\">\n",
       "  <thead>\n",
       "    <tr style=\"text-align: right;\">\n",
       "      <th></th>\n",
       "      <th>class</th>\n",
       "      <th>text</th>\n",
       "    </tr>\n",
       "  </thead>\n",
       "  <tbody>\n",
       "    <tr>\n",
       "      <th>47898</th>\n",
       "      <td>0</td>\n",
       "      <td>Ignatz I want Mandaraxe contribution I cannot ...</td>\n",
       "    </tr>\n",
       "    <tr>\n",
       "      <th>113046</th>\n",
       "      <td>0</td>\n",
       "      <td>It seems comments misunderstood editors Englis...</td>\n",
       "    </tr>\n",
       "    <tr>\n",
       "      <th>229200</th>\n",
       "      <td>0</td>\n",
       "      <td>Take care Please careful working AfC pages wit...</td>\n",
       "    </tr>\n",
       "    <tr>\n",
       "      <th>222499</th>\n",
       "      <td>0</td>\n",
       "      <td>Idonije Plays end also DT</td>\n",
       "    </tr>\n",
       "    <tr>\n",
       "      <th>198560</th>\n",
       "      <td>0</td>\n",
       "      <td>Your noteThank note talk page left January You...</td>\n",
       "    </tr>\n",
       "    <tr>\n",
       "      <th>...</th>\n",
       "      <td>...</td>\n",
       "      <td>...</td>\n",
       "    </tr>\n",
       "    <tr>\n",
       "      <th>194520</th>\n",
       "      <td>0</td>\n",
       "      <td>Semitic I thought Arabic uses root KNN copula ...</td>\n",
       "    </tr>\n",
       "    <tr>\n",
       "      <th>29880</th>\n",
       "      <td>0</td>\n",
       "      <td>On per cent easily calculated order get idea g...</td>\n",
       "    </tr>\n",
       "    <tr>\n",
       "      <th>214374</th>\n",
       "      <td>0</td>\n",
       "      <td>HiEarlier I created article called Celoxis upl...</td>\n",
       "    </tr>\n",
       "    <tr>\n",
       "      <th>171272</th>\n",
       "      <td>0</td>\n",
       "      <td>I new user privileges yet</td>\n",
       "    </tr>\n",
       "    <tr>\n",
       "      <th>221443</th>\n",
       "      <td>0</td>\n",
       "      <td>required train airborne qual special ops sold...</td>\n",
       "    </tr>\n",
       "  </tbody>\n",
       "</table>\n",
       "<p>245464 rows × 2 columns</p>\n",
       "</div>"
      ],
      "text/plain": [
       "        class                                               text\n",
       "47898       0  Ignatz I want Mandaraxe contribution I cannot ...\n",
       "113046      0  It seems comments misunderstood editors Englis...\n",
       "229200      0  Take care Please careful working AfC pages wit...\n",
       "222499      0                          Idonije Plays end also DT\n",
       "198560      0  Your noteThank note talk page left January You...\n",
       "...       ...                                                ...\n",
       "194520      0  Semitic I thought Arabic uses root KNN copula ...\n",
       "29880       0  On per cent easily calculated order get idea g...\n",
       "214374      0  HiEarlier I created article called Celoxis upl...\n",
       "171272      0                          I new user privileges yet\n",
       "221443      0   required train airborne qual special ops sold...\n",
       "\n",
       "[245464 rows x 2 columns]"
      ]
     },
     "execution_count": 4,
     "metadata": {},
     "output_type": "execute_result"
    }
   ],
   "source": [
    "df"
   ]
  },
  {
   "cell_type": "code",
   "execution_count": 3,
   "id": "fddb22d4",
   "metadata": {},
   "outputs": [],
   "source": [
    "df_sampled = sampling.undersample(df)"
   ]
  },
  {
   "cell_type": "markdown",
   "id": "e43e7b53",
   "metadata": {},
   "source": [
    "## Training Function"
   ]
  },
  {
   "cell_type": "code",
   "execution_count": 4,
   "id": "0b4fef90",
   "metadata": {},
   "outputs": [],
   "source": [
    "def logreg(X_train, y_train, X_test, name, C=1.0, solver=\"saga\", max_iter=100):\n",
    "    clf = LogisticRegression(\n",
    "        C=C, random_state=13, solver=solver, max_iter=max_iter, n_jobs=-1\n",
    "    )\n",
    "    clf.fit(X_train, y_train.argmax(axis=1))\n",
    "    pickle.dump(\n",
    "        clf, open(f\"../../models/neutral_models/{name}.pkl\", \"wb\",),\n",
    "    )\n",
    "    return clf.predict(X_test), clf"
   ]
  },
  {
   "cell_type": "markdown",
   "id": "54e6a95a",
   "metadata": {},
   "source": [
    "## TF-IDF Vectorizer"
   ]
  },
  {
   "cell_type": "markdown",
   "id": "e9335b62",
   "metadata": {},
   "source": [
    "### Vectorization"
   ]
  },
  {
   "cell_type": "code",
   "execution_count": 5,
   "id": "06a4a283",
   "metadata": {
    "tags": []
   },
   "outputs": [
    {
     "name": "stdout",
     "output_type": "stream",
     "text": [
      "Time to vectorize:  19.77\n",
      "Length of vocabulary: 2992\n"
     ]
    }
   ],
   "source": [
    "tfidf_vec, vocab = vectorize.tfidf(\n",
    "    df_sampled[\"text\"], \"logreg\", max_df=0.90, min_df=100, vocab=True\n",
    ")"
   ]
  },
  {
   "cell_type": "markdown",
   "id": "08e10c15",
   "metadata": {},
   "source": [
    "### Train-Test Split"
   ]
  },
  {
   "cell_type": "code",
   "execution_count": 6,
   "id": "0d66e02b",
   "metadata": {},
   "outputs": [],
   "source": [
    "y = tts.encode_outputs(df_sampled[\"class\"])"
   ]
  },
  {
   "cell_type": "code",
   "execution_count": 7,
   "id": "0f53be66",
   "metadata": {},
   "outputs": [],
   "source": [
    "X_train, X_test, y_train, y_test = tts.split(tfidf_vec, y)"
   ]
  },
  {
   "cell_type": "markdown",
   "id": "8d0938a1",
   "metadata": {},
   "source": [
    "### Training"
   ]
  },
  {
   "cell_type": "code",
   "execution_count": 8,
   "id": "314e8509",
   "metadata": {},
   "outputs": [],
   "source": [
    "y_pred, model = logreg(X_train, y_train, X_test, \"logreg_tfidf\", C=5.0, solver=\"saga\")"
   ]
  },
  {
   "cell_type": "markdown",
   "id": "f2536508",
   "metadata": {},
   "source": [
    "### Metrics"
   ]
  },
  {
   "cell_type": "code",
   "execution_count": 9,
   "id": "fafe19df",
   "metadata": {},
   "outputs": [
    {
     "name": "stdout",
     "output_type": "stream",
     "text": [
      "Class 1 Accuracy: 0.8853877732164651\n",
      "Class 0 Accuracy: 0.9435948581560284\n"
     ]
    }
   ],
   "source": [
    "ml_stats.class_accuracies(y_test, y_pred)"
   ]
  },
  {
   "cell_type": "code",
   "execution_count": 10,
   "id": "b7b60315",
   "metadata": {},
   "outputs": [
    {
     "data": {
      "image/png": "[encoded data removed]",
      "text/plain": [
       "<Figure size 720x504 with 2 Axes>"
      ]
     },
     "metadata": {
      "needs_background": "light"
     },
     "output_type": "display_data"
    }
   ],
   "source": [
    "ml_stats.confusion_matrix_plot(y_test, y_pred, 2)"
   ]
  },
  {
   "cell_type": "code",
   "execution_count": 11,
   "id": "83206ec2",
   "metadata": {},
   "outputs": [
    {
     "name": "stdout",
     "output_type": "stream",
     "text": [
      "\n",
      "Accuracy: 0.91\n",
      "\n",
      "Micro Precision: 0.91\n",
      "Micro Recall: 0.91\n",
      "Micro F1-score: 0.91\n",
      "\n",
      "Macro Precision: 0.92\n",
      "Macro Recall: 0.91\n",
      "Macro F1-score: 0.91\n",
      "\n",
      "Weighted Precision: 0.92\n",
      "Weighted Recall: 0.91\n",
      "Weighted F1-score: 0.91\n",
      "\n",
      "Classification Report\n",
      "\n",
      "              precision    recall  f1-score   support\n",
      "\n",
      "     Class 0       0.89      0.94      0.92      9024\n",
      "     Class 1       0.94      0.89      0.91      9013\n",
      "\n",
      "    accuracy                           0.91     18037\n",
      "   macro avg       0.92      0.91      0.91     18037\n",
      "weighted avg       0.92      0.91      0.91     18037\n",
      "\n"
     ]
    }
   ],
   "source": [
    "ml_stats.stats(y_test, y_pred, 2)"
   ]
  },
  {
   "cell_type": "markdown",
   "id": "cf8aaada",
   "metadata": {
    "jupyter": {
     "source_hidden": true
    },
    "tags": []
   },
   "source": [
    "### Personal Test"
   ]
  },
  {
   "cell_type": "code",
   "execution_count": 12,
   "id": "659e8663",
   "metadata": {
    "collapsed": true,
    "jupyter": {
     "outputs_hidden": true,
     "source_hidden": true
    },
    "tags": []
   },
   "outputs": [
    {
     "name": "stdout",
     "output_type": "stream",
     "text": [
      "[1 1 0 1 0 0 1 0 0]\n"
     ]
    }
   ],
   "source": [
    "vocab_tfidf = pickle.load(\n",
    "    open(\"../../models/neutral_models/vectorizers/logreg_tfidf_features.pkl\", \"rb\")\n",
    ")\n",
    "transformer = TfidfTransformer()\n",
    "loaded_vec = TfidfVectorizer(decode_error=\"replace\", vocabulary=vocab_tfidf)\n",
    "test_tfidf = transformer.fit_transform(\n",
    "    loaded_vec.fit_transform(\n",
    "        np.array(\n",
    "            [\n",
    "                \"what are you a homo\",\n",
    "                \"I love you\",\n",
    "                \"I go to the mall\",\n",
    "                \"fuck your mom bitch\",\n",
    "                \"hello\",\n",
    "                \"I have food\",\n",
    "                \"you are gay as fuck\",\n",
    "                \"niggers\",\n",
    "                \"blessjesus\",\n",
    "            ]\n",
    "        )\n",
    "    )\n",
    ")\n",
    "preds = model.predict(test_tfidf.toarray())\n",
    "print(preds)"
   ]
  },
  {
   "cell_type": "markdown",
   "id": "ef163476",
   "metadata": {},
   "source": [
    "## Count Vectorizer"
   ]
  },
  {
   "cell_type": "markdown",
   "id": "0256b145",
   "metadata": {},
   "source": [
    "### Vectorization"
   ]
  },
  {
   "cell_type": "code",
   "execution_count": 13,
   "id": "e5416f19",
   "metadata": {},
   "outputs": [
    {
     "name": "stdout",
     "output_type": "stream",
     "text": [
      "Time to vectorize:  17.65\n",
      "Length of vocabulary: 2992\n"
     ]
    }
   ],
   "source": [
    "count_vec, vocab = vectorize.count(\n",
    "    df_sampled[\"text\"], \"logreg\", max_df=0.90, min_df=100, vocab=True\n",
    ")"
   ]
  },
  {
   "cell_type": "markdown",
   "id": "8f43548d",
   "metadata": {},
   "source": [
    "### Train-Test Split"
   ]
  },
  {
   "cell_type": "code",
   "execution_count": 14,
   "id": "dde2f6fa",
   "metadata": {},
   "outputs": [],
   "source": [
    "y = tts.encode_outputs(df_sampled[\"class\"])"
   ]
  },
  {
   "cell_type": "code",
   "execution_count": 15,
   "id": "9921c03c",
   "metadata": {},
   "outputs": [],
   "source": [
    "X_train, X_test, y_train, y_test = tts.split(count_vec, y)"
   ]
  },
  {
   "cell_type": "markdown",
   "id": "4515cfcf",
   "metadata": {},
   "source": [
    "### Training"
   ]
  },
  {
   "cell_type": "code",
   "execution_count": 16,
   "id": "4a7b085f",
   "metadata": {
    "collapsed": true,
    "jupyter": {
     "outputs_hidden": true
    },
    "tags": []
   },
   "outputs": [
    {
     "name": "stderr",
     "output_type": "stream",
     "text": [
      "/Users/brandon/anaconda3/lib/python3.7/site-packages/sklearn/linear_model/_sag.py:329: ConvergenceWarning: The max_iter was reached which means the coef_ did not converge\n",
      "  \"the coef_ did not converge\", ConvergenceWarning)\n"
     ]
    }
   ],
   "source": [
    "y_pred, model = logreg(X_train, y_train, X_test, \"logreg_count\", max_iter=500)"
   ]
  },
  {
   "cell_type": "markdown",
   "id": "de574ad3",
   "metadata": {},
   "source": [
    "### Metrics"
   ]
  },
  {
   "cell_type": "code",
   "execution_count": 18,
   "id": "978a2c50",
   "metadata": {},
   "outputs": [
    {
     "name": "stdout",
     "output_type": "stream",
     "text": [
      "Class 1 Accuracy: 0.8326861200488184\n",
      "Class 0 Accuracy: 0.9532358156028369\n"
     ]
    }
   ],
   "source": [
    "ml_stats.class_accuracies(y_test, y_pred)"
   ]
  },
  {
   "cell_type": "code",
   "execution_count": 19,
   "id": "e7fd06ab",
   "metadata": {},
   "outputs": [
    {
     "data": {
      "image/png": "[encoded data removed]",
      "text/plain": [
       "<Figure size 720x504 with 2 Axes>"
      ]
     },
     "metadata": {
      "needs_background": "light"
     },
     "output_type": "display_data"
    }
   ],
   "source": [
    "ml_stats.confusion_matrix_plot(y_test, y_pred, 2)"
   ]
  },
  {
   "cell_type": "code",
   "execution_count": 20,
   "id": "85724665",
   "metadata": {},
   "outputs": [
    {
     "name": "stdout",
     "output_type": "stream",
     "text": [
      "\n",
      "Accuracy: 0.89\n",
      "\n",
      "Micro Precision: 0.89\n",
      "Micro Recall: 0.89\n",
      "Micro F1-score: 0.89\n",
      "\n",
      "Macro Precision: 0.90\n",
      "Macro Recall: 0.89\n",
      "Macro F1-score: 0.89\n",
      "\n",
      "Weighted Precision: 0.90\n",
      "Weighted Recall: 0.89\n",
      "Weighted F1-score: 0.89\n",
      "\n",
      "Classification Report\n",
      "\n",
      "              precision    recall  f1-score   support\n",
      "\n",
      "     Class 0       0.85      0.95      0.90      9024\n",
      "     Class 1       0.95      0.83      0.89      9013\n",
      "\n",
      "    accuracy                           0.89     18037\n",
      "   macro avg       0.90      0.89      0.89     18037\n",
      "weighted avg       0.90      0.89      0.89     18037\n",
      "\n"
     ]
    }
   ],
   "source": [
    "ml_stats.stats(y_test, y_pred, 2)"
   ]
  },
  {
   "cell_type": "markdown",
   "id": "39260fac",
   "metadata": {
    "jupyter": {
     "source_hidden": true
    },
    "tags": []
   },
   "source": [
    "### Personal Test"
   ]
  },
  {
   "cell_type": "code",
   "execution_count": 21,
   "id": "aab589ba",
   "metadata": {
    "collapsed": true,
    "jupyter": {
     "outputs_hidden": true,
     "source_hidden": true
    },
    "tags": []
   },
   "outputs": [
    {
     "name": "stdout",
     "output_type": "stream",
     "text": [
      "[1 0 0 1 0 0 1 0 0]\n"
     ]
    }
   ],
   "source": [
    "vocab_tfidf = pickle.load(\n",
    "    open(\"../../models/neutral_models/vectorizers/logreg_count_features.pkl\", \"rb\")\n",
    ")\n",
    "loaded_vec = CountVectorizer(decode_error=\"replace\", vocabulary=vocab_tfidf)\n",
    "test_tfidf = loaded_vec.fit_transform(\n",
    "    np.array(\n",
    "        [\n",
    "            \"what are you a homo\",\n",
    "            \"I love you\",\n",
    "            \"I go to the mall\",\n",
    "            \"fuck your mom bitch\",\n",
    "            \"hello\",\n",
    "            \"I have food\",\n",
    "            \"you are gay as fuck\",\n",
    "            \"niggers\",\n",
    "            \"blessjesus\",\n",
    "        ]\n",
    "    )\n",
    ")\n",
    "\n",
    "preds = model.predict(test_tfidf.toarray())\n",
    "# print(preds.argmax(axis=1))\n",
    "print(preds)"
   ]
  },
  {
   "cell_type": "code",
   "execution_count": null,
   "id": "ded92186",
   "metadata": {},
   "outputs": [],
   "source": []
  }
 ],
 "metadata": {
  "kernelspec": {
   "display_name": "Python 3",
   "language": "python",
   "name": "python3"
  },
  "language_info": {
   "codemirror_mode": {
    "name": "ipython",
    "version": 3
   },
   "file_extension": ".py",
   "mimetype": "text/x-python",
   "name": "python",
   "nbconvert_exporter": "python",
   "pygments_lexer": "ipython3",
   "version": "3.7.9"
  }
 },
 "nbformat": 4,
 "nbformat_minor": 5
}
