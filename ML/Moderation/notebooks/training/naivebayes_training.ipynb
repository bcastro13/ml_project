{
 "cells": [
  {
   "cell_type": "markdown",
   "id": "5da814a2",
   "metadata": {},
   "source": [
    "# Multinomial Naive Bayes Training"
   ]
  },
  {
   "cell_type": "markdown",
   "id": "2dcb3af2",
   "metadata": {},
   "source": [
    "## Python Imports"
   ]
  },
  {
   "cell_type": "code",
   "execution_count": 1,
   "id": "238af606",
   "metadata": {},
   "outputs": [],
   "source": [
    "import pickle\n",
    "\n",
    "import numpy as np\n",
    "from ML.Moderation.notebooks.utilities import data, ml_stats, sampling\n",
    "from ML.Moderation.notebooks.utilities import train_test_split as tts\n",
    "from ML.Moderation.notebooks.utilities import vectorize\n",
    "from sklearn.feature_extraction.text import (\n",
    "    CountVectorizer,\n",
    "    TfidfTransformer,\n",
    "    TfidfVectorizer,\n",
    ")\n",
    "from sklearn.naive_bayes import MultinomialNB"
   ]
  },
  {
   "cell_type": "markdown",
   "id": "fd66d5cb",
   "metadata": {},
   "source": [
    "## Load data"
   ]
  },
  {
   "cell_type": "code",
   "execution_count": 2,
   "id": "2e49802f",
   "metadata": {},
   "outputs": [],
   "source": [
    "df = data.neutral()"
   ]
  },
  {
   "cell_type": "code",
   "execution_count": 3,
   "id": "55f1b6f6",
   "metadata": {},
   "outputs": [],
   "source": [
    "df_sampled = sampling.undersample(df)"
   ]
  },
  {
   "cell_type": "markdown",
   "id": "428a6058",
   "metadata": {},
   "source": [
    "## Training Function"
   ]
  },
  {
   "cell_type": "code",
   "execution_count": 4,
   "id": "fd47592b",
   "metadata": {},
   "outputs": [],
   "source": [
    "def multi_nb(X_train, y_train, X_test, name, C=1.0, solver=\"saga\", max_iter=100):\n",
    "    clf = MultinomialNB()\n",
    "    clf.fit(X_train, y_train.argmax(axis=1))\n",
    "    pickle.dump(\n",
    "        clf, open(f\"../../models/neutral_models/{name}.pkl\", \"wb\",),\n",
    "    )\n",
    "    return clf.predict(X_test), clf"
   ]
  },
  {
   "cell_type": "markdown",
   "id": "b8f1ccd3",
   "metadata": {},
   "source": [
    "## TF-IDF Vectorizer"
   ]
  },
  {
   "cell_type": "markdown",
   "id": "2b9a6e7f",
   "metadata": {},
   "source": [
    "### Vectorization"
   ]
  },
  {
   "cell_type": "code",
   "execution_count": 5,
   "id": "f4114c0d",
   "metadata": {
    "tags": []
   },
   "outputs": [
    {
     "name": "stdout",
     "output_type": "stream",
     "text": [
      "Time to vectorize:  20.39\n",
      "Length of vocabulary: 2992\n"
     ]
    }
   ],
   "source": [
    "tfidf_vec, vocab = vectorize.tfidf(\n",
    "    df_sampled[\"text\"], \"multi_nb\", max_df=0.90, min_df=100, vocab=True\n",
    ")"
   ]
  },
  {
   "cell_type": "markdown",
   "id": "f00e652a",
   "metadata": {},
   "source": [
    "### Train-Test Split"
   ]
  },
  {
   "cell_type": "code",
   "execution_count": 6,
   "id": "477573fa",
   "metadata": {},
   "outputs": [],
   "source": [
    "y = tts.encode_outputs(df_sampled[\"class\"])"
   ]
  },
  {
   "cell_type": "code",
   "execution_count": 7,
   "id": "67fc5479",
   "metadata": {},
   "outputs": [],
   "source": [
    "X_train, X_test, y_train, y_test = tts.split(tfidf_vec, y)"
   ]
  },
  {
   "cell_type": "markdown",
   "id": "4df65955",
   "metadata": {},
   "source": [
    "### Training"
   ]
  },
  {
   "cell_type": "code",
   "execution_count": 8,
   "id": "f6fc8bc4",
   "metadata": {},
   "outputs": [],
   "source": [
    "y_pred, model = multi_nb(\n",
    "    X_train, y_train, X_test, \"multi_nb_tfidf\", C=5.0, solver=\"saga\"\n",
    ")"
   ]
  },
  {
   "cell_type": "markdown",
   "id": "3d649efd",
   "metadata": {},
   "source": [
    "### Metrics"
   ]
  },
  {
   "cell_type": "code",
   "execution_count": 9,
   "id": "15a5d4d5",
   "metadata": {},
   "outputs": [
    {
     "name": "stdout",
     "output_type": "stream",
     "text": [
      "Class 1 Accuracy: 0.880274558343648\n",
      "Class 0 Accuracy: 0.8650273224043716\n"
     ]
    }
   ],
   "source": [
    "ml_stats.class_accuracies(y_test, y_pred)"
   ]
  },
  {
   "cell_type": "code",
   "execution_count": 10,
   "id": "fbcedc8c",
   "metadata": {},
   "outputs": [
    {
     "data": {
      "image/png": "[encoded data removed]",
      "text/plain": [
       "<Figure size 720x504 with 2 Axes>"
      ]
     },
     "metadata": {
      "needs_background": "light"
     },
     "output_type": "display_data"
    }
   ],
   "source": [
    "ml_stats.confusion_matrix_plot(y_test, y_pred, 2)"
   ]
  },
  {
   "cell_type": "code",
   "execution_count": 11,
   "id": "385f8b18",
   "metadata": {},
   "outputs": [
    {
     "name": "stdout",
     "output_type": "stream",
     "text": [
      "\n",
      "Accuracy: 0.87\n",
      "\n",
      "Micro Precision: 0.87\n",
      "Micro Recall: 0.87\n",
      "Micro F1-score: 0.87\n",
      "\n",
      "Macro Precision: 0.87\n",
      "Macro Recall: 0.87\n",
      "Macro F1-score: 0.87\n",
      "\n",
      "Weighted Precision: 0.87\n",
      "Weighted Recall: 0.87\n",
      "Weighted F1-score: 0.87\n",
      "\n",
      "Classification Report\n",
      "\n",
      "              precision    recall  f1-score   support\n",
      "\n",
      "     Class 0       0.88      0.87      0.87      9150\n",
      "     Class 1       0.86      0.88      0.87      8887\n",
      "\n",
      "    accuracy                           0.87     18037\n",
      "   macro avg       0.87      0.87      0.87     18037\n",
      "weighted avg       0.87      0.87      0.87     18037\n",
      "\n"
     ]
    }
   ],
   "source": [
    "ml_stats.stats(y_test, y_pred, 2)"
   ]
  },
  {
   "cell_type": "markdown",
   "id": "7e9443bd",
   "metadata": {
    "jupyter": {
     "source_hidden": true
    },
    "tags": []
   },
   "source": [
    "### Personal Test"
   ]
  },
  {
   "cell_type": "code",
   "execution_count": 4,
   "id": "af97882a",
   "metadata": {
    "collapsed": true,
    "jupyter": {
     "outputs_hidden": true,
     "source_hidden": true
    },
    "tags": []
   },
   "outputs": [
    {
     "name": "stdout",
     "output_type": "stream",
     "text": [
      "[1 1 1 1 0 1 1 1 1]\n"
     ]
    }
   ],
   "source": [
    "vocab_tfidf = pickle.load(\n",
    "    open(\"../../models/neutral_models/vectorizers/multi_nb_tfidf_features.pkl\", \"rb\")\n",
    ")\n",
    "loaded_vec = TfidfVectorizer(decode_error=\"replace\", vocabulary=vocab_tfidf)\n",
    "test_tfidf = loaded_vec.fit_transform(\n",
    "    np.array(\n",
    "        [\n",
    "            \"what are you a homo\",\n",
    "            \"I love you\",\n",
    "            \"I go to the mall\",\n",
    "            \"fuck your mom bitch\",\n",
    "            \"hello\",\n",
    "            \"I have food\",\n",
    "            \"you are gay as fuck\",\n",
    "            \"niggers\",\n",
    "            \"blessjesus\",\n",
    "        ]\n",
    "    )\n",
    ")\n",
    "preds = model.predict(test_tfidf.toarray())\n",
    "print(preds)"
   ]
  },
  {
   "cell_type": "markdown",
   "id": "61395226",
   "metadata": {},
   "source": [
    "## Count Vectorizer"
   ]
  },
  {
   "cell_type": "markdown",
   "id": "9e89fd0a",
   "metadata": {},
   "source": [
    "### Vectorization"
   ]
  },
  {
   "cell_type": "code",
   "execution_count": 13,
   "id": "993e7fba",
   "metadata": {},
   "outputs": [
    {
     "name": "stdout",
     "output_type": "stream",
     "text": [
      "Time to vectorize:  19.28\n",
      "Length of vocabulary: 2992\n"
     ]
    }
   ],
   "source": [
    "count_vec, vocab = vectorize.count(\n",
    "    df_sampled[\"text\"], \"multi_nb\", max_df=0.90, min_df=100, vocab=True\n",
    ")"
   ]
  },
  {
   "cell_type": "markdown",
   "id": "76bb7ba7",
   "metadata": {},
   "source": [
    "### Train-Test Split"
   ]
  },
  {
   "cell_type": "code",
   "execution_count": 14,
   "id": "b9600cfb",
   "metadata": {},
   "outputs": [],
   "source": [
    "y = tts.encode_outputs(df_sampled[\"class\"])"
   ]
  },
  {
   "cell_type": "code",
   "execution_count": 15,
   "id": "7328f700",
   "metadata": {},
   "outputs": [],
   "source": [
    "X_train, X_test, y_train, y_test = tts.split(count_vec, y)"
   ]
  },
  {
   "cell_type": "markdown",
   "id": "b9ef557d",
   "metadata": {},
   "source": [
    "### Training"
   ]
  },
  {
   "cell_type": "code",
   "execution_count": 16,
   "id": "73cb0cad",
   "metadata": {},
   "outputs": [],
   "source": [
    "y_pred, model = multi_nb(X_train, y_train, X_test, \"multi_nb_count\", max_iter=500)"
   ]
  },
  {
   "cell_type": "markdown",
   "id": "2144e92a",
   "metadata": {},
   "source": [
    "### Metrics"
   ]
  },
  {
   "cell_type": "code",
   "execution_count": 18,
   "id": "ab288930",
   "metadata": {},
   "outputs": [
    {
     "name": "stdout",
     "output_type": "stream",
     "text": [
      "Class 1 Accuracy: 0.9277596489253966\n",
      "Class 0 Accuracy: 0.8097267759562842\n"
     ]
    }
   ],
   "source": [
    "ml_stats.class_accuracies(y_test, y_pred)"
   ]
  },
  {
   "cell_type": "code",
   "execution_count": 19,
   "id": "582b1c6b",
   "metadata": {},
   "outputs": [
    {
     "data": {
      "image/png": "[encoded data removed]",
      "text/plain": [
       "<Figure size 720x504 with 2 Axes>"
      ]
     },
     "metadata": {
      "needs_background": "light"
     },
     "output_type": "display_data"
    }
   ],
   "source": [
    "ml_stats.confusion_matrix_plot(y_test, y_pred, 2)"
   ]
  },
  {
   "cell_type": "code",
   "execution_count": 20,
   "id": "25bb068d",
   "metadata": {},
   "outputs": [
    {
     "name": "stdout",
     "output_type": "stream",
     "text": [
      "\n",
      "Accuracy: 0.87\n",
      "\n",
      "Micro Precision: 0.87\n",
      "Micro Recall: 0.87\n",
      "Micro F1-score: 0.87\n",
      "\n",
      "Macro Precision: 0.87\n",
      "Macro Recall: 0.87\n",
      "Macro F1-score: 0.87\n",
      "\n",
      "Weighted Precision: 0.87\n",
      "Weighted Recall: 0.87\n",
      "Weighted F1-score: 0.87\n",
      "\n",
      "Classification Report\n",
      "\n",
      "              precision    recall  f1-score   support\n",
      "\n",
      "     Class 0       0.92      0.81      0.86      9150\n",
      "     Class 1       0.83      0.93      0.87      8887\n",
      "\n",
      "    accuracy                           0.87     18037\n",
      "   macro avg       0.87      0.87      0.87     18037\n",
      "weighted avg       0.87      0.87      0.87     18037\n",
      "\n"
     ]
    }
   ],
   "source": [
    "ml_stats.stats(y_test, y_pred, 2)"
   ]
  },
  {
   "cell_type": "markdown",
   "id": "dd06d613",
   "metadata": {
    "jupyter": {
     "source_hidden": true
    },
    "tags": []
   },
   "source": [
    "### Personal Test"
   ]
  },
  {
   "cell_type": "code",
   "execution_count": 21,
   "id": "b654c62e",
   "metadata": {
    "collapsed": true,
    "jupyter": {
     "outputs_hidden": true,
     "source_hidden": true
    },
    "tags": []
   },
   "outputs": [
    {
     "name": "stdout",
     "output_type": "stream",
     "text": [
      "[1 1 1 1 0 1 1 1 1]\n"
     ]
    }
   ],
   "source": [
    "vocab_tfidf = pickle.load(\n",
    "    open(\"../../models/neutral_models/vectorizers/multi_nb_count_features.pkl\", \"rb\")\n",
    ")\n",
    "loaded_vec = CountVectorizer(decode_error=\"replace\", vocabulary=vocab_tfidf)\n",
    "test_tfidf = loaded_vec.fit_transform(\n",
    "    np.array(\n",
    "        [\n",
    "            \"what are you a homo\",\n",
    "            \"I love you\",\n",
    "            \"I go to the mall\",\n",
    "            \"fuck your mom bitch\",\n",
    "            \"hello\",\n",
    "            \"I have food\",\n",
    "            \"you are gay as fuck\",\n",
    "            \"niggers\",\n",
    "            \"blessjesus\",\n",
    "        ]\n",
    "    )\n",
    ")\n",
    "\n",
    "preds = model.predict(test_tfidf.toarray())\n",
    "# print(preds.argmax(axis=1))\n",
    "print(preds)"
   ]
  },
  {
   "cell_type": "code",
   "execution_count": null,
   "id": "48de639d",
   "metadata": {},
   "outputs": [],
   "source": []
  }
 ],
 "metadata": {
  "kernelspec": {
   "display_name": "Python 3",
   "language": "python",
   "name": "python3"
  },
  "language_info": {
   "codemirror_mode": {
    "name": "ipython",
    "version": 3
   },
   "file_extension": ".py",
   "mimetype": "text/x-python",
   "name": "python",
   "nbconvert_exporter": "python",
   "pygments_lexer": "ipython3",
   "version": "3.7.9"
  }
 },
 "nbformat": 4,
 "nbformat_minor": 5
}
