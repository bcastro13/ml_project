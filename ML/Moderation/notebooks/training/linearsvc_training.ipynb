{
 "cells": [
  {
   "cell_type": "markdown",
   "id": "79d61072",
   "metadata": {},
   "source": [
    "# Linear SVC Training"
   ]
  },
  {
   "cell_type": "markdown",
   "id": "5473f044",
   "metadata": {},
   "source": [
    "## Python Imports"
   ]
  },
  {
   "cell_type": "code",
   "execution_count": 6,
   "id": "86f82d13",
   "metadata": {},
   "outputs": [],
   "source": [
    "import pickle\n",
    "\n",
    "import numpy as np\n",
    "from ML.Moderation.notebooks.utilities import data, ml_stats, sampling\n",
    "from ML.Moderation.notebooks.utilities import train_test_split as tts\n",
    "from ML.Moderation.notebooks.utilities import vectorize\n",
    "from sklearn.calibration import CalibratedClassifierCV\n",
    "from sklearn.feature_extraction.text import (\n",
    "    CountVectorizer,\n",
    "    TfidfTransformer,\n",
    "    TfidfVectorizer,\n",
    ")\n",
    "from sklearn.svm import LinearSVC"
   ]
  },
  {
   "cell_type": "markdown",
   "id": "2a492ba2",
   "metadata": {},
   "source": [
    "## Load Data"
   ]
  },
  {
   "cell_type": "code",
   "execution_count": 11,
   "id": "0f419ba8",
   "metadata": {},
   "outputs": [],
   "source": [
    "df = data.neutral()"
   ]
  },
  {
   "cell_type": "code",
   "execution_count": 8,
   "id": "8f8900e2",
   "metadata": {},
   "outputs": [],
   "source": [
    "df_sampled = sampling.undersample(df)"
   ]
  },
  {
   "cell_type": "markdown",
   "id": "e1eec93e",
   "metadata": {
    "tags": []
   },
   "source": [
    "## Training Function"
   ]
  },
  {
   "cell_type": "code",
   "execution_count": 9,
   "id": "741816f2",
   "metadata": {},
   "outputs": [],
   "source": [
    "def linsvc(\n",
    "    X_train,\n",
    "    y_train,\n",
    "    X_test,\n",
    "    name,\n",
    "    penalty=\"l2\",\n",
    "    loss=\"squared_hinge\",\n",
    "    C=1.0,\n",
    "    max_iter=1000,\n",
    "):\n",
    "    svm = LinearSVC(penalty=penalty, loss=loss, C=C, max_iter=max_iter, dual=False)\n",
    "    clf = CalibratedClassifierCV(svm)\n",
    "    clf.fit(X_train, y_train.argmax(axis=1))\n",
    "    pickle.dump(\n",
    "        clf, open(f\"../../models/neutral_models/vectorizers/{name}.pkl\", \"wb\",),\n",
    "    )\n",
    "    return clf.predict(X_test), clf"
   ]
  },
  {
   "cell_type": "markdown",
   "id": "5d05fcab",
   "metadata": {},
   "source": [
    "## TF-IDF Vectorizer"
   ]
  },
  {
   "cell_type": "markdown",
   "id": "798b11bc",
   "metadata": {},
   "source": [
    "### Vectorization"
   ]
  },
  {
   "cell_type": "code",
   "execution_count": 10,
   "id": "07ae7528",
   "metadata": {
    "tags": []
   },
   "outputs": [
    {
     "name": "stdout",
     "output_type": "stream",
     "text": [
      "Time to vectorize:  19.87\n",
      "Length of vocabulary: 3041\n"
     ]
    }
   ],
   "source": [
    "tfidf_vec, vocab = vectorize.tfidf(\n",
    "    df_sampled[\"text\"], \"linearsvc\", max_df=0.90, min_df=100, vocab=True\n",
    ")"
   ]
  },
  {
   "cell_type": "markdown",
   "id": "d0cd1fd8",
   "metadata": {},
   "source": [
    "### Train-Test Splits"
   ]
  },
  {
   "cell_type": "code",
   "execution_count": 11,
   "id": "b46bccc7",
   "metadata": {},
   "outputs": [],
   "source": [
    "y = tts.encode_outputs(df_sampled[\"class\"])"
   ]
  },
  {
   "cell_type": "code",
   "execution_count": 12,
   "id": "543b0a81",
   "metadata": {},
   "outputs": [],
   "source": [
    "X_train, X_test, y_train, y_test = tts.split(tfidf_vec, y)"
   ]
  },
  {
   "cell_type": "markdown",
   "id": "ee19ee42",
   "metadata": {},
   "source": [
    "### Training"
   ]
  },
  {
   "cell_type": "code",
   "execution_count": 13,
   "id": "17ee4268",
   "metadata": {},
   "outputs": [],
   "source": [
    "y_pred, model = linsvc(\n",
    "    X_train, y_train, X_test, \"linearsvc_tfidf\", penalty=\"l1\", C=10.0\n",
    ")"
   ]
  },
  {
   "cell_type": "markdown",
   "id": "c6594315",
   "metadata": {},
   "source": [
    "### Metrics"
   ]
  },
  {
   "cell_type": "code",
   "execution_count": 14,
   "id": "51d3a531",
   "metadata": {},
   "outputs": [
    {
     "name": "stdout",
     "output_type": "stream",
     "text": [
      "Class 1 Accuracy: 0.8087809226654781\n",
      "Class 0 Accuracy: 0.9810217367317665\n"
     ]
    }
   ],
   "source": [
    "ml_stats.class_accuracies(y_test, y_pred)"
   ]
  },
  {
   "cell_type": "code",
   "execution_count": 15,
   "id": "a9fcdcc9",
   "metadata": {},
   "outputs": [
    {
     "data": {
      "image/png": "[encoded data removed]",
      "text/plain": [
       "<Figure size 720x504 with 2 Axes>"
      ]
     },
     "metadata": {
      "needs_background": "light"
     },
     "output_type": "display_data"
    }
   ],
   "source": [
    "ml_stats.confusion_matrix_plot(y_test, y_pred, 2)"
   ]
  },
  {
   "cell_type": "code",
   "execution_count": 16,
   "id": "66df8d12",
   "metadata": {},
   "outputs": [
    {
     "name": "stdout",
     "output_type": "stream",
     "text": [
      "\n",
      "Accuracy: 0.90\n",
      "\n",
      "Micro Precision: 0.90\n",
      "Micro Recall: 0.90\n",
      "Micro F1-score: 0.90\n",
      "\n",
      "Macro Precision: 0.91\n",
      "Macro Recall: 0.89\n",
      "Macro F1-score: 0.89\n",
      "\n",
      "Weighted Precision: 0.91\n",
      "Weighted Recall: 0.90\n",
      "Weighted F1-score: 0.89\n",
      "\n",
      "Classification Report\n",
      "\n",
      "              precision    recall  f1-score   support\n",
      "\n",
      "     Class 0       0.84      0.98      0.90      9063\n",
      "     Class 1       0.98      0.81      0.88      8974\n",
      "\n",
      "    accuracy                           0.90     18037\n",
      "   macro avg       0.91      0.89      0.89     18037\n",
      "weighted avg       0.91      0.90      0.89     18037\n",
      "\n"
     ]
    }
   ],
   "source": [
    "ml_stats.stats(y_test, y_pred, 2)"
   ]
  },
  {
   "cell_type": "markdown",
   "id": "c161fa89",
   "metadata": {
    "jupyter": {
     "source_hidden": true
    },
    "tags": []
   },
   "source": [
    "### Personal Test"
   ]
  },
  {
   "cell_type": "code",
   "execution_count": 17,
   "id": "de3d5a08",
   "metadata": {
    "collapsed": true,
    "jupyter": {
     "outputs_hidden": true,
     "source_hidden": true
    },
    "tags": []
   },
   "outputs": [
    {
     "name": "stdout",
     "output_type": "stream",
     "text": [
      "[1 0 0 1 0 0 1 0 0]\n"
     ]
    }
   ],
   "source": [
    "vocab_tfidf = pickle.load(\n",
    "    open(\"../../models/neutral_models/vectorizers/linearsvc_tfidf_features.pkl\", \"rb\")\n",
    ")\n",
    "transformer = TfidfTransformer()\n",
    "loaded_vec = TfidfVectorizer(decode_error=\"replace\", vocabulary=vocab_tfidf)\n",
    "test_tfidf = transformer.fit_transform(\n",
    "    loaded_vec.fit_transform(\n",
    "        np.array(\n",
    "            [\n",
    "                \"what are you a homo\",\n",
    "                \"I love you\",\n",
    "                \"I go to the mall\",\n",
    "                \"fuck your mom bitch\",\n",
    "                \"hello\",\n",
    "                \"I have food\",\n",
    "                \"you are gay as fuck\",\n",
    "                \"niggers\",\n",
    "                \"blessjesus\",\n",
    "            ]\n",
    "        )\n",
    "    )\n",
    ")\n",
    "preds = model.predict(test_tfidf.toarray())\n",
    "print(preds)"
   ]
  },
  {
   "cell_type": "markdown",
   "id": "196c770d",
   "metadata": {
    "tags": []
   },
   "source": [
    "## Count Vectorizer"
   ]
  },
  {
   "cell_type": "markdown",
   "id": "eacbd4b8",
   "metadata": {},
   "source": [
    "### Vectorization"
   ]
  },
  {
   "cell_type": "code",
   "execution_count": 18,
   "id": "374bba28",
   "metadata": {
    "tags": []
   },
   "outputs": [
    {
     "name": "stdout",
     "output_type": "stream",
     "text": [
      "Time to vectorize:  18.62\n",
      "Length of vocabulary: 3041\n"
     ]
    }
   ],
   "source": [
    "count_vec, vocab = vectorize.count(\n",
    "    df_sampled[\"text\"], \"linearsvc\", max_df=0.90, min_df=100, vocab=True\n",
    ")"
   ]
  },
  {
   "cell_type": "markdown",
   "id": "25a90c70",
   "metadata": {},
   "source": [
    "### Train-Test Split"
   ]
  },
  {
   "cell_type": "code",
   "execution_count": 19,
   "id": "b670e214",
   "metadata": {},
   "outputs": [],
   "source": [
    "y = tts.encode_outputs(df_sampled[\"class\"])"
   ]
  },
  {
   "cell_type": "code",
   "execution_count": 20,
   "id": "dec7f011",
   "metadata": {},
   "outputs": [],
   "source": [
    "X_train, X_test, y_train, y_test = tts.split(count_vec, y)"
   ]
  },
  {
   "cell_type": "markdown",
   "id": "5fd9b580",
   "metadata": {},
   "source": [
    "### Training"
   ]
  },
  {
   "cell_type": "code",
   "execution_count": 21,
   "id": "5c30297f",
   "metadata": {},
   "outputs": [],
   "source": [
    "y_pred, model = linsvc(\n",
    "    X_train, y_train, X_test, \"linearsvc_count\", penalty=\"l2\", C=100.0\n",
    ")"
   ]
  },
  {
   "cell_type": "markdown",
   "id": "1ee0a1da",
   "metadata": {},
   "source": [
    "### Metrics"
   ]
  },
  {
   "cell_type": "code",
   "execution_count": 22,
   "id": "2f503476",
   "metadata": {},
   "outputs": [
    {
     "name": "stdout",
     "output_type": "stream",
     "text": [
      "Class 1 Accuracy: 0.4533095609538667\n",
      "Class 0 Accuracy: 0.9968001765419839\n"
     ]
    }
   ],
   "source": [
    "ml_stats.class_accuracies(y_test, y_pred)"
   ]
  },
  {
   "cell_type": "code",
   "execution_count": 23,
   "id": "00768948",
   "metadata": {},
   "outputs": [
    {
     "data": {
      "image/png": "[encoded data removed]",
      "text/plain": [
       "<Figure size 720x504 with 2 Axes>"
      ]
     },
     "metadata": {
      "needs_background": "light"
     },
     "output_type": "display_data"
    }
   ],
   "source": [
    "ml_stats.confusion_matrix_plot(y_test, y_pred, 2)"
   ]
  },
  {
   "cell_type": "code",
   "execution_count": 24,
   "id": "483b7760",
   "metadata": {},
   "outputs": [
    {
     "name": "stdout",
     "output_type": "stream",
     "text": [
      "\n",
      "Accuracy: 0.73\n",
      "\n",
      "Micro Precision: 0.73\n",
      "Micro Recall: 0.73\n",
      "Micro F1-score: 0.73\n",
      "\n",
      "Macro Precision: 0.82\n",
      "Macro Recall: 0.73\n",
      "Macro F1-score: 0.70\n",
      "\n",
      "Weighted Precision: 0.82\n",
      "Weighted Recall: 0.73\n",
      "Weighted F1-score: 0.70\n",
      "\n",
      "Classification Report\n",
      "\n",
      "              precision    recall  f1-score   support\n",
      "\n",
      "     Class 0       0.65      1.00      0.79      9063\n",
      "     Class 1       0.99      0.45      0.62      8974\n",
      "\n",
      "    accuracy                           0.73     18037\n",
      "   macro avg       0.82      0.73      0.70     18037\n",
      "weighted avg       0.82      0.73      0.70     18037\n",
      "\n"
     ]
    }
   ],
   "source": [
    "ml_stats.stats(y_test, y_pred, 2)"
   ]
  },
  {
   "cell_type": "markdown",
   "id": "4ac622b2",
   "metadata": {
    "jupyter": {
     "source_hidden": true
    },
    "tags": []
   },
   "source": [
    "### Personal Test"
   ]
  },
  {
   "cell_type": "code",
   "execution_count": 25,
   "id": "8fe05606",
   "metadata": {
    "collapsed": true,
    "jupyter": {
     "outputs_hidden": true,
     "source_hidden": true
    },
    "tags": []
   },
   "outputs": [
    {
     "name": "stdout",
     "output_type": "stream",
     "text": [
      "[0 0 0 1 0 0 1 0 0]\n"
     ]
    }
   ],
   "source": [
    "vocab_tfidf = pickle.load(\n",
    "    open(\"../../models/neutral_models/vectorizers/linearsvc_count_features.pkl\", \"rb\")\n",
    ")\n",
    "loaded_vec = CountVectorizer(decode_error=\"replace\", vocabulary=vocab_tfidf)\n",
    "test_tfidf = loaded_vec.fit_transform(\n",
    "    np.array(\n",
    "        [\n",
    "            \"what are you a homo\",\n",
    "            \"I love you\",\n",
    "            \"I go to the mall\",\n",
    "            \"fuck your mom bitch\",\n",
    "            \"hello\",\n",
    "            \"I have food\",\n",
    "            \"you are gay as fuck\",\n",
    "            \"niggers\",\n",
    "            \"blessjesus\",\n",
    "        ]\n",
    "    )\n",
    ")\n",
    "\n",
    "preds = model.predict(test_tfidf.toarray())\n",
    "# print(preds.argmax(axis=1))\n",
    "print(preds)"
   ]
  },
  {
   "cell_type": "code",
   "execution_count": null,
   "id": "d6a4fdcd",
   "metadata": {},
   "outputs": [],
   "source": []
  }
 ],
 "metadata": {
  "interpreter": {
   "hash": "59f6b9cf8442ee5a477efd90620f7d1ed4dfce33b5f103e56fe0c5c790671650"
  },
  "kernelspec": {
   "display_name": "Python 3",
   "language": "python",
   "name": "python3"
  },
  "language_info": {
   "codemirror_mode": {
    "name": "ipython",
    "version": 3
   },
   "file_extension": ".py",
   "mimetype": "text/x-python",
   "name": "python",
   "nbconvert_exporter": "python",
   "pygments_lexer": "ipython3",
   "version": "3.7.9"
  }
 },
 "nbformat": 4,
 "nbformat_minor": 5
}
