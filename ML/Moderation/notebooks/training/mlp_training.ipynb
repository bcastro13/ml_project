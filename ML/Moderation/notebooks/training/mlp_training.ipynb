{
 "cells": [
  {
   "cell_type": "markdown",
   "id": "a54b7c9e",
   "metadata": {},
   "source": [
    "# Multilayer Perceptron Training"
   ]
  },
  {
   "cell_type": "markdown",
   "id": "61c52727",
   "metadata": {},
   "source": [
    "## Python Imports"
   ]
  },
  {
   "cell_type": "code",
   "execution_count": 2,
   "id": "dcebe1c0",
   "metadata": {},
   "outputs": [],
   "source": [
    "import pickle\n",
    "\n",
    "import numpy as np\n",
    "from keras.layers import Dense\n",
    "from keras.models import Sequential\n",
    "from ML.Moderation.notebooks.utilities import data, ml_stats, sampling\n",
    "from ML.Moderation.notebooks.utilities import train_test_split as tts\n",
    "from ML.Moderation.notebooks.utilities import vectorize\n",
    "from sklearn.feature_extraction.text import (\n",
    "    CountVectorizer,\n",
    "    TfidfTransformer,\n",
    "    TfidfVectorizer,\n",
    ")"
   ]
  },
  {
   "cell_type": "markdown",
   "id": "562921e1",
   "metadata": {},
   "source": [
    "## Load Data"
   ]
  },
  {
   "cell_type": "code",
   "execution_count": 2,
   "id": "95829d5a",
   "metadata": {},
   "outputs": [],
   "source": [
    "df = data.neutral()"
   ]
  },
  {
   "cell_type": "code",
   "execution_count": 3,
   "id": "ab3d81f0",
   "metadata": {},
   "outputs": [],
   "source": [
    "df_sampled = sampling.undersample(df)"
   ]
  },
  {
   "cell_type": "markdown",
   "id": "d2d3ddd2",
   "metadata": {},
   "source": [
    "## Training Function"
   ]
  },
  {
   "cell_type": "code",
   "execution_count": 4,
   "id": "7b1548b2",
   "metadata": {},
   "outputs": [],
   "source": [
    "def mlp(\n",
    "    X_train, y_train, X_test, y_test, name, class_weight=None, epochs=15, batch_size=64,\n",
    "):\n",
    "    model = Sequential()\n",
    "    model.add(Dense(64, input_shape=(X_train.shape[1],), activation=\"relu\"))\n",
    "    model.add(Dense(64, activation=\"relu\"))\n",
    "    model.add(Dense(8, activation=\"relu\"))\n",
    "    model.add(Dense(y_train.shape[1], activation=\"softmax\"))\n",
    "    model.compile(loss=\"binary_crossentropy\", optimizer=\"adam\", metrics=[\"accuracy\"])\n",
    "    model.summary()\n",
    "\n",
    "    history = model.fit(\n",
    "        X_train,\n",
    "        y_train,\n",
    "        class_weight=class_weight,\n",
    "        epochs=epochs,\n",
    "        batch_size=batch_size,\n",
    "        validation_data=(X_test, y_test),\n",
    "    )\n",
    "    print(model.evaluate(X_train, y_train))\n",
    "    model.save(f\"../../models/neutral_models/{name}\")\n",
    "    return np.argmax(model.predict(X_test), axis=1), model, history"
   ]
  },
  {
   "cell_type": "markdown",
   "id": "615e4e0a",
   "metadata": {},
   "source": [
    "## TF-IDF Vectorizer"
   ]
  },
  {
   "cell_type": "markdown",
   "id": "b34555bf",
   "metadata": {},
   "source": [
    "### Vectorization"
   ]
  },
  {
   "cell_type": "code",
   "execution_count": 5,
   "id": "06154f30",
   "metadata": {
    "tags": []
   },
   "outputs": [
    {
     "name": "stdout",
     "output_type": "stream",
     "text": [
      "Time to vectorize:  20.24\n",
      "Length of vocabulary: 5567\n"
     ]
    }
   ],
   "source": [
    "tfidf_vec, vocab = vectorize.tfidf(\n",
    "    df_sampled[\"text\"], \"mlp\", max_df=0.9, min_df=50, vocab=True\n",
    ")"
   ]
  },
  {
   "cell_type": "markdown",
   "id": "4fe37c6d",
   "metadata": {},
   "source": [
    "### Train-Test Splits"
   ]
  },
  {
   "cell_type": "code",
   "execution_count": 6,
   "id": "9b607aee",
   "metadata": {},
   "outputs": [],
   "source": [
    "y = tts.encode_outputs(df_sampled[\"class\"])"
   ]
  },
  {
   "cell_type": "code",
   "execution_count": 7,
   "id": "6ceaf6dd",
   "metadata": {},
   "outputs": [],
   "source": [
    "X_train, X_test, y_train, y_test = tts.split(tfidf_vec, y)"
   ]
  },
  {
   "cell_type": "markdown",
   "id": "e8ee2fdc",
   "metadata": {},
   "source": [
    "### Training"
   ]
  },
  {
   "cell_type": "code",
   "execution_count": 8,
   "id": "df673d2f",
   "metadata": {},
   "outputs": [
    {
     "name": "stdout",
     "output_type": "stream",
     "text": [
      "Model: \"sequential\"\n",
      "_________________________________________________________________\n",
      "Layer (type)                 Output Shape              Param #   \n",
      "=================================================================\n",
      "dense (Dense)                (None, 64)                356352    \n",
      "_________________________________________________________________\n",
      "dense_1 (Dense)              (None, 64)                4160      \n",
      "_________________________________________________________________\n",
      "dense_2 (Dense)              (None, 8)                 520       \n",
      "_________________________________________________________________\n",
      "dense_3 (Dense)              (None, 2)                 18        \n",
      "=================================================================\n",
      "Total params: 361,050\n",
      "Trainable params: 361,050\n",
      "Non-trainable params: 0\n",
      "_________________________________________________________________\n",
      "Epoch 1/2\n",
      "1128/1128 [==============================] - 5s 4ms/step - loss: 0.3552 - accuracy: 0.8280 - val_loss: 0.2144 - val_accuracy: 0.9152\n",
      "Epoch 2/2\n",
      "1128/1128 [==============================] - 2s 2ms/step - loss: 0.1857 - accuracy: 0.9249 - val_loss: 0.2058 - val_accuracy: 0.9190\n",
      "2255/2255 [==============================] - 3s 1ms/step - loss: 0.1516 - accuracy: 0.9421\n",
      "[0.15164922177791595, 0.942076563835144]\n",
      "INFO:tensorflow:Assets written to: ../../models/neutral_models/mlp_tfidf/assets\n"
     ]
    }
   ],
   "source": [
    "y_pred, model, history = mlp(X_train, y_train, X_test, y_test, \"mlp_tfidf\", epochs=2)"
   ]
  },
  {
   "cell_type": "markdown",
   "id": "c26894b9",
   "metadata": {},
   "source": [
    "### Metrics"
   ]
  },
  {
   "cell_type": "code",
   "execution_count": 9,
   "id": "1a2a8c76",
   "metadata": {},
   "outputs": [
    {
     "name": "stdout",
     "output_type": "stream",
     "text": [
      "Class 0 Accuracy: 0.9436479929422144\n",
      "Class 1 Accuracy: 0.8940796075370722\n"
     ]
    }
   ],
   "source": [
    "ml_stats.class_accuracies(y_test, y_pred)"
   ]
  },
  {
   "cell_type": "code",
   "execution_count": 10,
   "id": "f5f9725c",
   "metadata": {},
   "outputs": [
    {
     "data": {
      "image/png": "[encoded data removed]",
      "text/plain": [
       "<Figure size 720x504 with 2 Axes>"
      ]
     },
     "metadata": {
      "needs_background": "light"
     },
     "output_type": "display_data"
    }
   ],
   "source": [
    "ml_stats.confusion_matrix_plot(y_test, y_pred, 2)"
   ]
  },
  {
   "cell_type": "code",
   "execution_count": 11,
   "id": "a8826b8c",
   "metadata": {},
   "outputs": [
    {
     "name": "stdout",
     "output_type": "stream",
     "text": [
      "\n",
      "Accuracy: 0.92\n",
      "\n",
      "Micro Precision: 0.92\n",
      "Micro Recall: 0.92\n",
      "Micro F1-score: 0.92\n",
      "\n",
      "Macro Precision: 0.92\n",
      "Macro Recall: 0.92\n",
      "Macro F1-score: 0.92\n",
      "\n",
      "Weighted Precision: 0.92\n",
      "Weighted Recall: 0.92\n",
      "Weighted F1-score: 0.92\n",
      "\n",
      "Classification Report\n",
      "\n",
      "              precision    recall  f1-score   support\n",
      "\n",
      "     Class 0       0.90      0.94      0.92      9068\n",
      "     Class 1       0.94      0.89      0.92      8969\n",
      "\n",
      "    accuracy                           0.92     18037\n",
      "   macro avg       0.92      0.92      0.92     18037\n",
      "weighted avg       0.92      0.92      0.92     18037\n",
      "\n"
     ]
    }
   ],
   "source": [
    "ml_stats.stats(y_test, y_pred, 2)"
   ]
  },
  {
   "cell_type": "markdown",
   "id": "0e20d315",
   "metadata": {
    "jupyter": {
     "source_hidden": true
    },
    "tags": []
   },
   "source": [
    "### Personal Test"
   ]
  },
  {
   "cell_type": "code",
   "execution_count": 21,
   "id": "dcc2ce8a",
   "metadata": {
    "collapsed": true,
    "jupyter": {
     "outputs_hidden": true,
     "source_hidden": true
    },
    "tags": []
   },
   "outputs": [
    {
     "name": "stdout",
     "output_type": "stream",
     "text": [
      "[1 0 0 1 0 0 1 0 0]\n",
      "[[7.2712544e-03 9.9272883e-01]\n",
      " [6.0017115e-01 3.9982882e-01]\n",
      " [7.7812964e-01 2.2187038e-01]\n",
      " [9.9325658e-14 1.0000000e+00]\n",
      " [9.9824226e-01 1.7578045e-03]\n",
      " [9.9660313e-01 3.3968461e-03]\n",
      " [1.0698243e-13 1.0000000e+00]\n",
      " [9.9111009e-01 8.8898716e-03]\n",
      " [9.9111009e-01 8.8898726e-03]]\n"
     ]
    }
   ],
   "source": [
    "vocab_tfidf = pickle.load(\n",
    "    open(\"../../models/neutral_models/vectorizers/mlp_tfidf_features.pkl\", \"rb\")\n",
    ")\n",
    "transformer = TfidfTransformer()\n",
    "loaded_vec = TfidfVectorizer(decode_error=\"replace\", vocabulary=vocab_tfidf)\n",
    "test_tfidf = transformer.fit_transform(\n",
    "    loaded_vec.fit_transform(\n",
    "        np.array(\n",
    "            [\n",
    "                \"what are you a homo\",\n",
    "                \"I love you\",\n",
    "                \"I go to the mall\",\n",
    "                \"fuck your mom bitch\",\n",
    "                \"hello\",\n",
    "                \"I have food\",\n",
    "                \"you are gay as fuck\",\n",
    "                \"niggers\",\n",
    "                \"blessjesus\",\n",
    "            ]\n",
    "        )\n",
    "    )\n",
    ")\n",
    "preds = model.predict(test_tfidf.toarray())\n",
    "print(preds.argmax(axis=1))\n",
    "print(preds)"
   ]
  },
  {
   "cell_type": "markdown",
   "id": "9e7c7159",
   "metadata": {},
   "source": [
    "## Count Vectorizer"
   ]
  },
  {
   "cell_type": "markdown",
   "id": "f1664a67",
   "metadata": {},
   "source": [
    "### Vectorization"
   ]
  },
  {
   "cell_type": "code",
   "execution_count": 12,
   "id": "7513277a",
   "metadata": {},
   "outputs": [
    {
     "name": "stdout",
     "output_type": "stream",
     "text": [
      "Time to vectorize:  19.93\n",
      "Length of vocabulary: 5567\n"
     ]
    }
   ],
   "source": [
    "count_vec, vocab = vectorize.count(\n",
    "    df_sampled[\"text\"], \"mlp\", max_df=0.9, min_df=50, vocab=True\n",
    ")"
   ]
  },
  {
   "cell_type": "markdown",
   "id": "0fd4a6e3",
   "metadata": {},
   "source": [
    "### Train-Test-Splits"
   ]
  },
  {
   "cell_type": "code",
   "execution_count": 13,
   "id": "2ddb9145",
   "metadata": {},
   "outputs": [],
   "source": [
    "X_train, X_test, y_train, y_test = tts.split(count_vec, y)"
   ]
  },
  {
   "cell_type": "markdown",
   "id": "c803518e",
   "metadata": {},
   "source": [
    "### Training"
   ]
  },
  {
   "cell_type": "code",
   "execution_count": 14,
   "id": "a4caa6fb",
   "metadata": {},
   "outputs": [
    {
     "name": "stdout",
     "output_type": "stream",
     "text": [
      "Model: \"sequential_1\"\n",
      "_________________________________________________________________\n",
      "Layer (type)                 Output Shape              Param #   \n",
      "=================================================================\n",
      "dense_4 (Dense)              (None, 64)                356352    \n",
      "_________________________________________________________________\n",
      "dense_5 (Dense)              (None, 64)                4160      \n",
      "_________________________________________________________________\n",
      "dense_6 (Dense)              (None, 8)                 520       \n",
      "_________________________________________________________________\n",
      "dense_7 (Dense)              (None, 2)                 18        \n",
      "=================================================================\n",
      "Total params: 361,050\n",
      "Trainable params: 361,050\n",
      "Non-trainable params: 0\n",
      "_________________________________________________________________\n",
      "Epoch 1/3\n",
      "1128/1128 [==============================] - 4s 3ms/step - loss: 0.3462 - accuracy: 0.8601 - val_loss: 0.2124 - val_accuracy: 0.9181\n",
      "Epoch 2/3\n",
      "1128/1128 [==============================] - 3s 2ms/step - loss: 0.1575 - accuracy: 0.9386 - val_loss: 0.2204 - val_accuracy: 0.9174\n",
      "Epoch 3/3\n",
      "1128/1128 [==============================] - 3s 2ms/step - loss: 0.1161 - accuracy: 0.9566 - val_loss: 0.2487 - val_accuracy: 0.9150\n",
      "2255/2255 [==============================] - 3s 1ms/step - loss: 0.0797 - accuracy: 0.9726\n",
      "[0.07971818000078201, 0.9726392030715942]\n",
      "INFO:tensorflow:Assets written to: ../../models/neutral_models/mlp_count/assets\n"
     ]
    }
   ],
   "source": [
    "y_pred, model, history = mlp(X_train, y_train, X_test, y_test, \"mlp_count\", epochs=3)"
   ]
  },
  {
   "cell_type": "markdown",
   "id": "a3e245db",
   "metadata": {},
   "source": [
    "### Metrics"
   ]
  },
  {
   "cell_type": "code",
   "execution_count": 15,
   "id": "46faad25",
   "metadata": {},
   "outputs": [
    {
     "name": "stdout",
     "output_type": "stream",
     "text": [
      "Class 0 Accuracy: 0.9197176885752095\n",
      "Class 1 Accuracy: 0.9101349091314528\n"
     ]
    }
   ],
   "source": [
    "ml_stats.class_accuracies(y_test, y_pred)"
   ]
  },
  {
   "cell_type": "code",
   "execution_count": 16,
   "id": "8aade784",
   "metadata": {},
   "outputs": [
    {
     "data": {
      "image/png": "[encoded data removed]",
      "text/plain": [
       "<Figure size 720x504 with 2 Axes>"
      ]
     },
     "metadata": {
      "needs_background": "light"
     },
     "output_type": "display_data"
    }
   ],
   "source": [
    "ml_stats.confusion_matrix_plot(y_test, y_pred, 2)"
   ]
  },
  {
   "cell_type": "code",
   "execution_count": 17,
   "id": "8f27eb98",
   "metadata": {},
   "outputs": [
    {
     "name": "stdout",
     "output_type": "stream",
     "text": [
      "\n",
      "Accuracy: 0.91\n",
      "\n",
      "Micro Precision: 0.91\n",
      "Micro Recall: 0.91\n",
      "Micro F1-score: 0.91\n",
      "\n",
      "Macro Precision: 0.91\n",
      "Macro Recall: 0.91\n",
      "Macro F1-score: 0.91\n",
      "\n",
      "Weighted Precision: 0.91\n",
      "Weighted Recall: 0.91\n",
      "Weighted F1-score: 0.91\n",
      "\n",
      "Classification Report\n",
      "\n",
      "              precision    recall  f1-score   support\n",
      "\n",
      "     Class 0       0.91      0.92      0.92      9068\n",
      "     Class 1       0.92      0.91      0.91      8969\n",
      "\n",
      "    accuracy                           0.91     18037\n",
      "   macro avg       0.91      0.91      0.91     18037\n",
      "weighted avg       0.91      0.91      0.91     18037\n",
      "\n"
     ]
    }
   ],
   "source": [
    "ml_stats.stats(y_test, y_pred, 2)"
   ]
  },
  {
   "cell_type": "markdown",
   "id": "4a327d4e",
   "metadata": {
    "tags": []
   },
   "source": [
    "### Personal Test"
   ]
  },
  {
   "cell_type": "code",
   "execution_count": 6,
   "id": "4290a195",
   "metadata": {
    "tags": []
   },
   "outputs": [
    {
     "name": "stdout",
     "output_type": "stream",
     "text": [
      "[1 1 1 1 0 0 1 0 0]\n",
      "[[7.6198700e-07 9.9999928e-01]\n",
      " [1.3943405e-02 9.8605657e-01]\n",
      " [7.8868851e-02 9.2113119e-01]\n",
      " [1.1707316e-34 1.0000000e+00]\n",
      " [9.9406612e-01 5.9338300e-03]\n",
      " [9.8527992e-01 1.4720070e-02]\n",
      " [5.7450031e-35 1.0000000e+00]\n",
      " [9.8638123e-01 1.3618825e-02]\n",
      " [9.8638123e-01 1.3618825e-02]]\n"
     ]
    }
   ],
   "source": [
    "vocab_tfidf = pickle.load(\n",
    "    open(\"../../models/neutral_models/vectorizers/mlp_count_features.pkl\", \"rb\")\n",
    ")\n",
    "loaded_vec = CountVectorizer(decode_error=\"replace\", vocabulary=vocab_tfidf)\n",
    "test_count = loaded_vec.fit_transform(\n",
    "    np.array(\n",
    "        [\n",
    "            \"what are you a homo\",\n",
    "            \"I love you\",\n",
    "            \"I go to the mall\",\n",
    "            \"fuck your mom bitch\",\n",
    "            \"hello\",\n",
    "            \"I have food\",\n",
    "            \"you are gay as fuck\",\n",
    "            \"niggers\",\n",
    "            \"blessjesus\",\n",
    "        ]\n",
    "    )\n",
    ")\n",
    "from tensorflow import keras\n",
    "model = keras.models.load_model(\"../../models/neutral_models/mlp_tfidf\")\n",
    "preds = model.predict(test_count.toarray())\n",
    "print(preds.argmax(axis=1))\n",
    "print(preds)"
   ]
  },
  {
   "cell_type": "code",
   "execution_count": null,
   "id": "110fd595",
   "metadata": {},
   "outputs": [],
   "source": []
  }
 ],
 "metadata": {
  "kernelspec": {
   "display_name": "Python 3",
   "language": "python",
   "name": "python3"
  },
  "language_info": {
   "codemirror_mode": {
    "name": "ipython",
    "version": 3
   },
   "file_extension": ".py",
   "mimetype": "text/x-python",
   "name": "python",
   "nbconvert_exporter": "python",
   "pygments_lexer": "ipython3",
   "version": "3.7.9"
  }
 },
 "nbformat": 4,
 "nbformat_minor": 5
}
